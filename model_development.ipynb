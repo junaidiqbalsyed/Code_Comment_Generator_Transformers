{
  "cells": [
    {
      "cell_type": "code",
      "execution_count": 6,
      "metadata": {
        "colab": {
          "base_uri": "https://localhost:8080/"
        },
        "id": "62LQ_sSiqxOZ",
        "outputId": "81237da5-e01e-4b01-edcd-45b8772ed1b2",
        "tags": []
      },
      "outputs": [
        {
          "output_type": "stream",
          "name": "stdout",
          "text": [
            "\u001b[K     |████████████████████████████████| 705 kB 28.3 MB/s \n",
            "\u001b[K     |████████████████████████████████| 4.7 MB 59.5 MB/s \n",
            "\u001b[K     |████████████████████████████████| 1.8 MB 25.1 MB/s \n",
            "\u001b[K     |████████████████████████████████| 85 kB 3.1 MB/s \n",
            "\u001b[K     |████████████████████████████████| 419 kB 68.1 MB/s \n",
            "\u001b[K     |████████████████████████████████| 5.9 MB 54.1 MB/s \n",
            "\u001b[K     |████████████████████████████████| 6.6 MB 55.3 MB/s \n",
            "\u001b[K     |████████████████████████████████| 120 kB 74.1 MB/s \n",
            "\u001b[K     |████████████████████████████████| 122 kB 70.5 MB/s \n",
            "\u001b[K     |████████████████████████████████| 181 kB 58.2 MB/s \n",
            "\u001b[K     |████████████████████████████████| 63 kB 1.6 MB/s \n",
            "\u001b[K     |████████████████████████████████| 157 kB 75.1 MB/s \n",
            "\u001b[K     |████████████████████████████████| 157 kB 79.9 MB/s \n",
            "\u001b[K     |████████████████████████████████| 157 kB 79.5 MB/s \n",
            "\u001b[K     |████████████████████████████████| 157 kB 80.9 MB/s \n",
            "\u001b[K     |████████████████████████████████| 157 kB 75.2 MB/s \n",
            "\u001b[K     |████████████████████████████████| 156 kB 81.3 MB/s \n",
            "\u001b[K     |████████████████████████████████| 1.3 MB 67.6 MB/s \n",
            "\u001b[?25h  Building wheel for sentence-transformers (setup.py) ... \u001b[?25l\u001b[?25hdone\n",
            "  Building wheel for pathtools (setup.py) ... \u001b[?25l\u001b[?25hdone\n",
            "\u001b[31mERROR: pip's dependency resolver does not currently take into account all the packages that are installed. This behaviour is the source of the following dependency conflicts.\n",
            "tensorflow 2.8.2+zzzcolab20220719082949 requires tensorboard<2.9,>=2.8, but you have tensorboard 2.10.0 which is incompatible.\u001b[0m\n"
          ]
        }
      ],
      "source": [
        "\n",
        "! pip -q install pytorch_lightning transformers wandb sentence-transformers "
      ]
    },
    {
      "cell_type": "code",
      "execution_count": 7,
      "metadata": {
        "id": "g0HhrVdrqpd_",
        "tags": [],
        "colab": {
          "base_uri": "https://localhost:8080/"
        },
        "outputId": "19973572-88ac-4005-c82b-cffad4cda5e5"
      },
      "outputs": [
        {
          "output_type": "execute_result",
          "data": {
            "text/plain": [
              "device(type='cuda')"
            ]
          },
          "metadata": {},
          "execution_count": 7
        }
      ],
      "source": [
        "import warnings \n",
        "warnings.filterwarnings(\"ignore\")\n",
        "\n",
        "import matplotlib.pyplot as plt\n",
        "import seaborn as sns\n",
        "import pandas as pd \n",
        "import numpy as np\n",
        "import glob\n",
        "import os\n",
        "os.environ[\"TOKENIZERS_PARALLELISM\"] = \"false\"\n",
        "import re\n",
        "import math\n",
        "import gc\n",
        "from tqdm.notebook import tqdm_notebook\n",
        "import wandb\n",
        "\n",
        "import torch\n",
        "import torch.nn as nn \n",
        "import torch.nn.functional as F\n",
        "import transformers\n",
        "\n",
        "import pytorch_lightning as pl\n",
        "import pytorch_lightning\n",
        "\n",
        "device =  torch.device('cuda' if torch.has_cuda else 'cpu')\n",
        "device"
      ]
    },
    {
      "cell_type": "code",
      "execution_count": null,
      "metadata": {
        "colab": {
          "base_uri": "https://localhost:8080/"
        },
        "id": "yb2NUlVIgTtU",
        "outputId": "b9518bee-52f3-479a-fcab-0527853f9b01",
        "tags": []
      },
      "outputs": [
        {
          "name": "stdout",
          "output_type": "stream",
          "text": [
            "Thu Aug 11 09:05:40 2022       \n",
            "+-----------------------------------------------------------------------------+\n",
            "| NVIDIA-SMI 460.91.03    Driver Version: 460.91.03    CUDA Version: 11.2     |\n",
            "|-------------------------------+----------------------+----------------------+\n",
            "| GPU  Name        Persistence-M| Bus-Id        Disp.A | Volatile Uncorr. ECC |\n",
            "| Fan  Temp  Perf  Pwr:Usage/Cap|         Memory-Usage | GPU-Util  Compute M. |\n",
            "|                               |                      |               MIG M. |\n",
            "|===============================+======================+======================|\n",
            "|   0  Quadro P6000        Off  | 00000000:00:05.0 Off |                  Off |\n",
            "| 26%   28C    P8     8W / 250W |      2MiB / 24449MiB |      0%      Default |\n",
            "|                               |                      |                  N/A |\n",
            "+-------------------------------+----------------------+----------------------+\n",
            "                                                                               \n",
            "+-----------------------------------------------------------------------------+\n",
            "| Processes:                                                                  |\n",
            "|  GPU   GI   CI        PID   Type   Process name                  GPU Memory |\n",
            "|        ID   ID                                                   Usage      |\n",
            "|=============================================================================|\n",
            "|  No running processes found                                                 |\n",
            "+-----------------------------------------------------------------------------+\n"
          ]
        }
      ],
      "source": [
        "!nvidia-smi"
      ]
    },
    {
      "cell_type": "markdown",
      "metadata": {
        "id": "o7Wn7aJTqpeB"
      },
      "source": [
        "# Load Dataset and pre-trained weights"
      ]
    },
    {
      "cell_type": "code",
      "execution_count": 8,
      "metadata": {
        "id": "8Gf9uYYbOXM8"
      },
      "outputs": [],
      "source": [
        "# load the models \n",
        "! wget -q \"https://www.dropbox.com/s/58ns2jt8aj8yoxm/models.zip?dl=0\"\n",
        "! unzip -q models.zip?dl=0\n",
        "\n",
        "# load python dataset\n",
        "! wget -q \"https://www.dropbox.com/s/eijnvwna66sq0rq/python.zip?dl=0\"\n",
        "! unzip -q python.zip?dl=0\n",
        "\n",
        "# load javascript dataset\n",
        "! wget -q \"https://www.dropbox.com/s/rmzuylbwpj2l44y/javascript.zip?dl=0\"\n",
        "! unzip -q javascript.zip?dl=0"
      ]
    },
    {
      "cell_type": "code",
      "source": [
        "# please select between python or java script \n",
        "\n",
        "language = int( input(\"0: for python \\n1: for javascript\\n\") )\n",
        "\n",
        "\n",
        "if language == 0:\n",
        "\n",
        "  language = \"python\"\n",
        "\n",
        "  dir = f\"./{language}/\"\n",
        "  load_model = \"/content/models/python_model_2.ckpt\"\n",
        "else:\n",
        "\n",
        "  language = \"javascript\"\n",
        "\n",
        "  dir = f\"./{language}/\"\n",
        "  load_model = \"/content/models/js_model.ckpt\""
      ],
      "metadata": {
        "colab": {
          "base_uri": "https://localhost:8080/"
        },
        "id": "WvNr1_bJOjkX",
        "outputId": "3da727c7-3815-4df7-9c40-5a17a0c28b00"
      },
      "execution_count": 11,
      "outputs": [
        {
          "name": "stdout",
          "output_type": "stream",
          "text": [
            "0: for python \n",
            "1: for javascript\n",
            "0\n"
          ]
        }
      ]
    },
    {
      "cell_type": "code",
      "execution_count": null,
      "metadata": {
        "colab": {
          "base_uri": "https://localhost:8080/"
        },
        "id": "1LcMiQ1SqpeD",
        "outputId": "f9a71f63-1627-4142-ef3b-95c9dd94bbfe",
        "tags": []
      },
      "outputs": [
        {
          "data": {
            "text/plain": [
              "((123889, 2), (8253, 2), (6483, 2))"
            ]
          },
          "execution_count": 4,
          "metadata": {},
          "output_type": "execute_result"
        }
      ],
      "source": [
        "\n",
        "def jsonl_list_to_dataframe(file_list, dir , columns=['code', 'docstring']):\n",
        "    \n",
        "    \"\"\"\n",
        "    input  : Directory \n",
        "    output : Dataframe that has code and docstring \n",
        "    \"\"\"\n",
        "\n",
        "    file_list =   glob.glob(f\"{dir}/**.gz\", recursive= True)\n",
        "\n",
        "    return pd.concat([pd.read_json( f, orient='records', compression='gzip', lines=True)[columns] for f in file_list], sort=False)\n",
        "\n",
        "def get_dfs(path):\n",
        "    \"\"\"\n",
        "    input  : Directory \n",
        "    output : returns train, Validation and test  dataframe\n",
        "    \"\"\"\n",
        "    \n",
        "    dfs = []\n",
        "    for split in [\"train\", \"valid\", \"test\"]:\n",
        "        \n",
        "        files = sorted( os.listdir( path+split  ) )\n",
        "        df = jsonl_list_to_dataframe(files, path+split ) #.rename(columns = {'code': 'mthd', 'docstring': 'cmt'})\n",
        "        dfs.append( df )\n",
        "        \n",
        "    return dfs\n",
        "\n",
        "train, valid, test = get_dfs(dir)\n",
        "\n",
        "train.shape, valid.shape, test.shape"
      ]
    },
    {
      "cell_type": "code",
      "execution_count": null,
      "metadata": {
        "colab": {
          "base_uri": "https://localhost:8080/",
          "height": 206
        },
        "id": "nlhwVQDIqpeD",
        "outputId": "f0115fc3-de27-4355-8e68-82eeedbbdb2c",
        "tags": []
      },
      "outputs": [
        {
          "data": {
            "text/html": [
              "<div>\n",
              "<style scoped>\n",
              "    .dataframe tbody tr th:only-of-type {\n",
              "        vertical-align: middle;\n",
              "    }\n",
              "\n",
              "    .dataframe tbody tr th {\n",
              "        vertical-align: top;\n",
              "    }\n",
              "\n",
              "    .dataframe thead th {\n",
              "        text-align: right;\n",
              "    }\n",
              "</style>\n",
              "<table border=\"1\" class=\"dataframe\">\n",
              "  <thead>\n",
              "    <tr style=\"text-align: right;\">\n",
              "      <th></th>\n",
              "      <th>code</th>\n",
              "      <th>docstring</th>\n",
              "    </tr>\n",
              "  </thead>\n",
              "  <tbody>\n",
              "    <tr>\n",
              "      <th>0</th>\n",
              "      <td>function createTypeScriptLanguageService(optio...</td>\n",
              "      <td>#region Discovery, LanguageService &amp; Setup</td>\n",
              "    </tr>\n",
              "    <tr>\n",
              "      <th>1</th>\n",
              "      <td>function discoverAndReadFiles(options) {\\n    ...</td>\n",
              "      <td>Read imports and follow them until all files h...</td>\n",
              "    </tr>\n",
              "    <tr>\n",
              "      <th>2</th>\n",
              "      <td>function getRealNodeSymbol(checker, node) {\\n ...</td>\n",
              "      <td>#endregion #region Utils \\nReturns the node's ...</td>\n",
              "    </tr>\n",
              "    <tr>\n",
              "      <th>3</th>\n",
              "      <td>function shouldSkipAlias(node, declaration) {\\...</td>\n",
              "      <td>Go to the original declaration for cases:  (1)...</td>\n",
              "    </tr>\n",
              "    <tr>\n",
              "      <th>4</th>\n",
              "      <td>function getTokenAtPosition(sourceFile, positi...</td>\n",
              "      <td>Get the token whose text contains the position</td>\n",
              "    </tr>\n",
              "  </tbody>\n",
              "</table>\n",
              "</div>"
            ],
            "text/plain": [
              "                                                code  \\\n",
              "0  function createTypeScriptLanguageService(optio...   \n",
              "1  function discoverAndReadFiles(options) {\\n    ...   \n",
              "2  function getRealNodeSymbol(checker, node) {\\n ...   \n",
              "3  function shouldSkipAlias(node, declaration) {\\...   \n",
              "4  function getTokenAtPosition(sourceFile, positi...   \n",
              "\n",
              "                                           docstring  \n",
              "0         #region Discovery, LanguageService & Setup  \n",
              "1  Read imports and follow them until all files h...  \n",
              "2  #endregion #region Utils \\nReturns the node's ...  \n",
              "3  Go to the original declaration for cases:  (1)...  \n",
              "4     Get the token whose text contains the position  "
            ]
          },
          "execution_count": 5,
          "metadata": {},
          "output_type": "execute_result"
        }
      ],
      "source": [
        "train.head()"
      ]
    },
    {
      "cell_type": "markdown",
      "metadata": {
        "id": "G663Ej03qpeE"
      },
      "source": [
        "# Data Cleaning  "
      ]
    },
    {
      "cell_type": "code",
      "execution_count": null,
      "metadata": {
        "colab": {
          "base_uri": "https://localhost:8080/"
        },
        "id": "9JAoUoYdqpeF",
        "outputId": "ad52e597-9834-4aa4-a061-78dc4e5d6875",
        "tags": []
      },
      "outputs": [
        {
          "data": {
            "text/plain": [
              "((123889, 2), (8253, 2), (6483, 2))"
            ]
          },
          "execution_count": 6,
          "metadata": {},
          "output_type": "execute_result"
        }
      ],
      "source": [
        "def del_docstring_from_code(value):\n",
        "    \"\"\"\n",
        "    input : code and docstring\n",
        "    output clean code snippet  \n",
        "    \"\"\"\n",
        "    if value[1] in value[0]:\n",
        "        value[0] = value[0].replace(value[1] , \"\")\n",
        "\n",
        "\n",
        "    return value[0]\n",
        "\n",
        "\n",
        "train.code = [ del_docstring_from_code(value) for value in train.values]\n",
        "test.code  = [ del_docstring_from_code(value) for value in test.values]\n",
        "valid.code = [ del_docstring_from_code(value) for value in valid.values] \n",
        "\n",
        "\n",
        "train.shape, valid.shape, test.shape"
      ]
    },
    {
      "cell_type": "code",
      "execution_count": null,
      "metadata": {
        "colab": {
          "base_uri": "https://localhost:8080/"
        },
        "id": "8IKILMYuqpeF",
        "outputId": "e6980430-823b-4df3-b639-7a313a7daa40",
        "tags": []
      },
      "outputs": [
        {
          "data": {
            "text/plain": [
              "((123889, 2), (8253, 2), (6483, 2))"
            ]
          },
          "execution_count": 7,
          "metadata": {},
          "output_type": "execute_result"
        }
      ],
      "source": [
        "# remove html. tag from the code \n",
        "\n",
        "def remove_html(cmt):\n",
        "    \"\"\"\n",
        "    input  : Docstring\n",
        "    output : Clean comment  \n",
        "    \"\"\"\n",
        "    return re.sub(r\"<.?span[^>]*>|<.?code[^>]*>|<.?p[^>]*>|<.?hr[^>]*>|<.?h[1-3][^>]*>|<.?a[^>]*>|<.?b[^>]*>|<.?blockquote[^>]*>|<.?del[^>]*>|<.?dd[^>]*>|<.?dl[^>]*>|<.?dt[^>]*>|<.?em[^>]*>|<.?i[^>]*>|<.?img[^>]*>|<.?kbd[^>]*>|<.?li[^>]*>|<.?ol[^>]*>|<.?pre[^>]*>|<.?s[^>]*>|<.?sup[^>]*>|<.?sub[^>]*>|<.?strong[^>]*>|<.?strike[^>]*>|<.?ul[^>]*>|<.?br[^>]*>\", \"\", cmt)\n",
        "\n",
        "\n",
        "train.docstring = train.docstring.apply(lambda x : remove_html(x))\n",
        "test.docstring = test.docstring.apply(lambda x : remove_html(x))\n",
        "valid.docstring = valid.docstring.apply(lambda x : remove_html(x))\n",
        "\n",
        "\n",
        "train.shape, valid.shape, test.shape"
      ]
    },
    {
      "cell_type": "code",
      "execution_count": null,
      "metadata": {
        "colab": {
          "base_uri": "https://localhost:8080/"
        },
        "id": "ltzmPuDzqpeF",
        "outputId": "dadf4268-fae0-41c9-9a1a-bf2f83af23db",
        "tags": []
      },
      "outputs": [
        {
          "data": {
            "text/plain": [
              "((123889, 2), (8253, 2), (6483, 2))"
            ]
          },
          "execution_count": 8,
          "metadata": {},
          "output_type": "execute_result"
        }
      ],
      "source": [
        "# get rid of the rowes that has < code > tag in there docstring \n",
        "\n",
        "def has_code(cmt) :\n",
        "    \n",
        "    '''\n",
        "    Determinine if the given comment contains the HTML <code> tag\n",
        "    '''\n",
        "\n",
        "    if '<code>' in cmt: return True\n",
        "    else: return False\n",
        "\n",
        "\n",
        "train = train[ ~ train.docstring.apply(lambda x : has_code(x) ) ]\n",
        "test  = test[ ~ test.docstring.apply(lambda x : has_code(x) ) ]\n",
        "valid = valid[ ~ valid.docstring.apply(lambda x : has_code(x) ) ]\n",
        "\n",
        "\n",
        "train.shape, valid.shape, test.shape"
      ]
    },
    {
      "cell_type": "code",
      "execution_count": null,
      "metadata": {
        "colab": {
          "base_uri": "https://localhost:8080/"
        },
        "id": "UlgKMfiIqpeG",
        "outputId": "dd1a2632-8ec2-4191-e40c-44703c6e5456",
        "tags": []
      },
      "outputs": [
        {
          "data": {
            "text/plain": [
              "((123889, 2), (8253, 2), (6483, 2))"
            ]
          },
          "execution_count": 9,
          "metadata": {},
          "output_type": "execute_result"
        }
      ],
      "source": [
        "# bring everything to lowercase and remove extra space\n",
        "\n",
        "train = train.applymap(lambda row : ' '.join(row.split()).lower())\n",
        "test = test.applymap(lambda row : ' '.join(row.split()).lower())\n",
        "valid = valid.applymap(lambda row : ' '.join(row.split()).lower())\n",
        "\n",
        "\n",
        "train.shape, valid.shape, test.shape"
      ]
    },
    {
      "cell_type": "code",
      "execution_count": null,
      "metadata": {
        "colab": {
          "base_uri": "https://localhost:8080/"
        },
        "id": "HHRkKE04qpeG",
        "outputId": "7f4526ce-bc8d-4f4e-8c00-4ffcb24a1ee4",
        "tags": []
      },
      "outputs": [
        {
          "data": {
            "text/plain": [
              "((106737, 2), (7153, 2), (5596, 2))"
            ]
          },
          "execution_count": 10,
          "metadata": {},
          "output_type": "execute_result"
        }
      ],
      "source": [
        "# delet the rows where the length of the docstring is longer than the length of the code! This is becase some time code comment tend to have extra \n",
        "# info which is not available in real time \n",
        "\n",
        "\n",
        "train = train[ ~ train.apply(lambda row : len(row.code) < len(row.docstring) , axis= 1 ) ]\n",
        "\n",
        "test = test[ ~ test.apply(lambda row : len(row.code) < len(row.docstring) , axis= 1 ) ]\n",
        "\n",
        "valid = valid[ ~ valid.apply(lambda row : len(row.code) < len(row.docstring) , axis= 1 ) ] \n",
        "\n",
        "train.shape, valid.shape, test.shape"
      ]
    },
    {
      "cell_type": "code",
      "execution_count": null,
      "metadata": {
        "colab": {
          "base_uri": "https://localhost:8080/"
        },
        "id": "rCOf6W8vqpeG",
        "outputId": "3aef15c6-d0af-45b7-e6a2-fb6f2b55d567",
        "tags": []
      },
      "outputs": [
        {
          "data": {
            "text/plain": [
              "((106734, 2), (7151, 2), (5596, 2))"
            ]
          },
          "execution_count": 11,
          "metadata": {},
          "output_type": "execute_result"
        }
      ],
      "source": [
        "# Remove the rows that has missing docstring  \n",
        "\n",
        "train = train[ ~ ( train.docstring == '') ]\n",
        "test  = test[ ~ ( test.docstring == '') ]\n",
        "valid = valid[ ~ ( valid.docstring == '') ]\n",
        "\n",
        "\n",
        "train.shape, valid.shape, test.shape"
      ]
    },
    {
      "cell_type": "code",
      "execution_count": null,
      "metadata": {
        "colab": {
          "base_uri": "https://localhost:8080/"
        },
        "id": "lbY_U6SQqpeG",
        "outputId": "b293069f-a8d6-46f8-be56-00ab86cc12d6",
        "tags": []
      },
      "outputs": [
        {
          "data": {
            "text/plain": [
              "((98142, 2), (6677, 2), (5298, 2))"
            ]
          },
          "execution_count": 12,
          "metadata": {},
          "output_type": "execute_result"
        }
      ],
      "source": [
        "# remove duplicate values \n",
        "\n",
        "train = train[ ~ train.docstring.duplicated() ]\n",
        "test = test[ ~ test.docstring.duplicated() ]\n",
        "valid = valid[ ~ valid.docstring.duplicated() ]\n",
        "\n",
        "\n",
        "train.shape, valid.shape, test.shape"
      ]
    },
    {
      "cell_type": "code",
      "execution_count": null,
      "metadata": {
        "id": "vON8-V0nHoiW",
        "tags": []
      },
      "outputs": [],
      "source": [
        "train = train.reset_index().drop(labels = 'index', axis = 1)\n",
        "test = test.reset_index().drop(labels = 'index', axis = 1)\n",
        "valid = valid.reset_index().drop(labels = 'index', axis = 1)"
      ]
    },
    {
      "cell_type": "markdown",
      "metadata": {
        "id": "OUtrkOfcqpeH"
      },
      "source": [
        "# Tokenization"
      ]
    },
    {
      "cell_type": "code",
      "execution_count": null,
      "metadata": {
        "id": "mdIcwbDSqpeH",
        "tags": []
      },
      "outputs": [],
      "source": [
        "# lets find the max length of both code and description sequence "
      ]
    },
    {
      "cell_type": "code",
      "execution_count": null,
      "metadata": {
        "id": "s1jaEu1TqpeH",
        "tags": []
      },
      "outputs": [],
      "source": [
        "# initialise our tokenizer \n",
        "\n",
        "tokenizer = transformers.AutoTokenizer.from_pretrained(\"microsoft/codebert-base\")"
      ]
    },
    {
      "cell_type": "code",
      "execution_count": null,
      "metadata": {
        "colab": {
          "base_uri": "https://localhost:8080/"
        },
        "id": "3EShsdYuqpeH",
        "outputId": "9d6cd2e3-8faa-41c3-aea6-37b3dab32404",
        "tags": []
      },
      "outputs": [
        {
          "name": "stderr",
          "output_type": "stream",
          "text": [
            "Token indices sequence length is longer than the specified maximum sequence length for this model (1091 > 512). Running this sequence through the model will result in indexing errors\n"
          ]
        }
      ],
      "source": [
        "code_lengths = [ len( tokenizer.encode( code, add_special_tokens= False ) ) for code in train.code.values ]\n",
        "\n",
        "cmt_lengths = [ len( tokenizer.encode( comment, add_special_tokens= False ) ) for comment in train.docstring.values ]"
      ]
    },
    {
      "cell_type": "code",
      "execution_count": null,
      "metadata": {
        "colab": {
          "base_uri": "https://localhost:8080/",
          "height": 281
        },
        "id": "tQrtjBz4qpeH",
        "outputId": "e35315b1-f5ef-4668-9a3d-06982c32a08b",
        "tags": []
      },
      "outputs": [
        {
          "data": {
            "image/png": "[encoded data removed]",
            "text/plain": [
              "<Figure size 432x288 with 1 Axes>"
            ]
          },
          "metadata": {
            "needs_background": "light"
          },
          "output_type": "display_data"
        }
      ],
      "source": [
        "# plot all the code lengths \n",
        "\n",
        "plt.plot(code_lengths)\n",
        "plt.title(\"length of all the code\")\n",
        "plt.ylabel(\"code length\")\n",
        "plt.show()"
      ]
    },
    {
      "cell_type": "code",
      "execution_count": null,
      "metadata": {
        "colab": {
          "base_uri": "https://localhost:8080/",
          "height": 281
        },
        "id": "j3Zq29v0qpeH",
        "outputId": "f76cdb36-fd3e-4064-8d09-8ff3076c347f",
        "tags": []
      },
      "outputs": [
        {
          "data": {
            "image/png": "[encoded data removed]",
            "text/plain": [
              "<Figure size 432x288 with 1 Axes>"
            ]
          },
          "metadata": {
            "needs_background": "light"
          },
          "output_type": "display_data"
        }
      ],
      "source": [
        "# plot all comment lengths \n",
        "\n",
        "plt.plot(cmt_lengths)\n",
        "plt.title(\"length of all the comments\")\n",
        "plt.ylabel(\"comment length\")\n",
        "plt.show()"
      ]
    },
    {
      "cell_type": "markdown",
      "metadata": {
        "id": "98LCmEGUqpeH"
      },
      "source": [
        "as we see from the above graph, its clear that we have some outliers. "
      ]
    },
    {
      "cell_type": "code",
      "execution_count": null,
      "metadata": {
        "colab": {
          "base_uri": "https://localhost:8080/"
        },
        "id": "tgMX13LkqpeI",
        "outputId": "45b262f1-271e-44a7-b2c9-2fdc3a1affdc",
        "tags": []
      },
      "outputs": [
        {
          "data": {
            "text/plain": [
              "(473, 78)"
            ]
          },
          "execution_count": 19,
          "metadata": {},
          "output_type": "execute_result"
        }
      ],
      "source": [
        "# Outliers \n",
        "\n",
        "code_outlier, cmt_outlier = int( np.quantile(code_lengths, 0.90) ), int( np.quantile(cmt_lengths, 0.90)  )\n",
        "\n",
        "code_outlier, cmt_outlier"
      ]
    },
    {
      "cell_type": "code",
      "execution_count": null,
      "metadata": {
        "colab": {
          "base_uri": "https://localhost:8080/"
        },
        "id": "AVNQup6xBTip",
        "outputId": "cf5436d5-a9a9-4fae-a034-f59e33da7664",
        "tags": []
      },
      "outputs": [
        {
          "data": {
            "text/plain": [
              "37.26497320209492"
            ]
          },
          "execution_count": 20,
          "metadata": {},
          "output_type": "execute_result"
        }
      ],
      "source": [
        "# add a piece of comment to code \n",
        "\n",
        "np.mean( cmt_lengths )"
      ]
    },
    {
      "cell_type": "code",
      "execution_count": null,
      "metadata": {
        "colab": {
          "base_uri": "https://localhost:8080/"
        },
        "id": "QJxdfXMIqpeI",
        "outputId": "f20d00f5-a898-433d-a7b6-87a6155361e8",
        "tags": []
      },
      "outputs": [
        {
          "data": {
            "text/plain": [
              "(256, 64)"
            ]
          },
          "execution_count": 22,
          "metadata": {},
          "output_type": "execute_result"
        }
      ],
      "source": [
        "# lets only consider the average length of the code and comment \n",
        "\n",
        "code_max_length, cmt_max_length =  256  ,  64      # \"int(np.average(code_lengths))\", int(np.average(cmt_lengths)) \n",
        "\n",
        "code_max_length, cmt_max_length"
      ]
    },
    {
      "cell_type": "code",
      "execution_count": null,
      "metadata": {
        "colab": {
          "base_uri": "https://localhost:8080/"
        },
        "id": "GzLKd-V4tK9m",
        "outputId": "0a5a8e20-fb29-4746-b023-a2cd470a1628",
        "tags": []
      },
      "outputs": [
        {
          "data": {
            "text/plain": [
              "((67258, 2), (6677, 2), (5298, 2))"
            ]
          },
          "execution_count": 23,
          "metadata": {},
          "output_type": "execute_result"
        }
      ],
      "source": [
        "# drop all the records that are greater than 256\n",
        "\n",
        "long_code_index = [ i  for i, length in  enumerate( code_lengths ) if length > code_max_length ]\n",
        "\n",
        "# drop all the recodrs in the index\n",
        "train.drop(index = long_code_index, inplace = True)\n",
        "\n",
        "# reset index\n",
        "train = train.reset_index().drop(labels = 'index', axis = 1) \n",
        "\n",
        "\n",
        "# drop all the records that are greater than 64\n",
        "cmt_lengths = [ len( tokenizer.encode( comment, add_special_tokens= False ) ) for comment in train.docstring.values ]\n",
        "\n",
        "long_cmt_index = [ i  for i, length in  enumerate( cmt_lengths ) if length > cmt_max_length ]\n",
        "\n",
        "# drop all the recodrs in the index\n",
        "train.drop(index = long_cmt_index, inplace = True)\n",
        "\n",
        "train.shape, valid.shape, test.shape"
      ]
    },
    {
      "cell_type": "code",
      "execution_count": null,
      "metadata": {
        "id": "_cK97TcxqpeI",
        "tags": []
      },
      "outputs": [],
      "source": [
        "# let us tokenize the data \n",
        "\n",
        "BATCH_SIZE = 16\n",
        "\n",
        "\n",
        "# To tokenize the code \n",
        "def code_tokenizer(data : list):\n",
        "    \"\"\"\n",
        "    input  :  list of code to be tokenized\n",
        "    output :  input_ids and attention_mask tensor of type long \n",
        "    \"\"\"\n",
        "    \n",
        "    input_ids = []\n",
        "    attention_mask = [] \n",
        "\n",
        "    for str in data: \n",
        "        encoded = tokenizer.encode_plus( text= str , max_length= code_max_length, padding= 'max_length', truncation= True)\n",
        "        input_ids.append(encoded['input_ids'])\n",
        "        attention_mask.append(encoded['attention_mask'])\n",
        "\n",
        "\n",
        "    # covert the input ids and the attention mask to type tensor \n",
        "    input_ids = torch.LongTensor(input_ids)\n",
        "    attention_mask = torch.LongTensor(attention_mask)\n",
        "\n",
        "    print(f\"shape of the code input_ids -> {input_ids.shape}\")\n",
        "    print(f\"shape of the code attention_mask -> {attention_mask.shape}\")\n",
        "\n",
        "    return input_ids, attention_mask \n",
        "\n",
        "\n",
        "# let us tokenize docstring \n",
        "def comment_tokenizer(data : list):\n",
        "    \"\"\"\n",
        "    input  :  list of comment to be tokenized\n",
        "    output :  input_ids and attention_mask tensor of type long \n",
        "    \"\"\"\n",
        "    \n",
        "    input_ids = []\n",
        "    attention_mask = [] \n",
        "\n",
        "    for str in data: \n",
        "        encoded = tokenizer.encode_plus( text= str , max_length= cmt_max_length, padding= 'max_length', truncation= True)\n",
        "        input_ids.append(encoded['input_ids'])\n",
        "        attention_mask.append(encoded['attention_mask'])\n",
        "\n",
        "\n",
        "    # covert the input ids and the attention mask to type tensor \n",
        "    input_ids = torch.LongTensor(input_ids)\n",
        "    attention_mask = torch.LongTensor(attention_mask)\n",
        "\n",
        "    print(f\"shape of the comment input_ids -> {input_ids.shape}\")\n",
        "    print(f\"shape of the comment attention_mask -> {attention_mask.shape}\")\n",
        "\n",
        "    return input_ids, attention_mask\n",
        "\n",
        "\n",
        "# creating a dataloader \n",
        "def make_data_loader(data : pd.DataFrame ) -> torch.utils.data.DataLoader2 :\n",
        "    \"\"\"\n",
        "    input  : pandas data frame of code docstring pair \n",
        "    output : DataLaoder that has src_input_ids, src_attention_mask, tgt_input_ids, tgt_attention_mask\n",
        "    \"\"\"\n",
        "\n",
        "    assert 'code' in test.columns , \"rename the function column name to code \"\n",
        "    assert 'docstring' in test.columns , \"rename the description column name to docstring \"\n",
        "\n",
        "    SRC_input_ids, SRC_attention_mask  = code_tokenizer(data.code.values)          # reurns input ids and attention mask of both source  -> shape [N, S] \n",
        "    TGT_input_ids, TGT_attention_mask  = comment_tokenizer(data.docstring.values) # reurns input ids and attention mask of both source  -> shape [N, T] \n",
        "\n",
        "    data = torch.utils.data.TensorDataset( SRC_input_ids, SRC_attention_mask, TGT_input_ids, TGT_attention_mask ) # has four values in one variable \n",
        "\n",
        "    sampler =  torch.utils.data.RandomSampler(data)\n",
        "\n",
        "    data_loader = torch.utils.data.DataLoader(dataset= data, batch_size= BATCH_SIZE, num_workers= 3, drop_last=True, sampler= sampler) # shape [N, S] -> [batchsize, sequence length]\n",
        "    \n",
        "    return data_loader"
      ]
    },
    {
      "cell_type": "code",
      "execution_count": null,
      "metadata": {
        "colab": {
          "base_uri": "https://localhost:8080/"
        },
        "id": "pTN0L97CqpeI",
        "outputId": "23209a79-cfe9-4312-c7cc-64dda18de1f8",
        "tags": []
      },
      "outputs": [
        {
          "name": "stdout",
          "output_type": "stream",
          "text": [
            "For train data\n",
            "shape of the code input_ids -> torch.Size([67258, 256])\n",
            "shape of the code attention_mask -> torch.Size([67258, 256])\n",
            "shape of the comment input_ids -> torch.Size([67258, 64])\n",
            "shape of the comment attention_mask -> torch.Size([67258, 64])\n"
          ]
        }
      ],
      "source": [
        "# Function call to create a data loader for thge model\n",
        "\n",
        "print(\"For train data\")\n",
        "Train = make_data_loader(train)"
      ]
    },
    {
      "cell_type": "code",
      "execution_count": null,
      "metadata": {
        "tags": [],
        "id": "CfC2GHJyOXND",
        "outputId": "ed6721f0-e7b5-442f-a092-37cf6876fb1a"
      },
      "outputs": [
        {
          "name": "stdout",
          "output_type": "stream",
          "text": [
            "For validation data\n",
            "shape of the code input_ids -> torch.Size([6677, 256])\n",
            "shape of the code attention_mask -> torch.Size([6677, 256])\n",
            "shape of the comment input_ids -> torch.Size([6677, 64])\n",
            "shape of the comment attention_mask -> torch.Size([6677, 64])\n"
          ]
        }
      ],
      "source": [
        "print(\"For validation data\")\n",
        "Valid = make_data_loader(valid)"
      ]
    },
    {
      "cell_type": "code",
      "execution_count": null,
      "metadata": {
        "tags": [],
        "id": "iORfaVU4OXND",
        "outputId": "17d899a2-3c42-4fe4-cf21-f495a49544d2"
      },
      "outputs": [
        {
          "name": "stdout",
          "output_type": "stream",
          "text": [
            "For test data\n",
            "shape of the code input_ids -> torch.Size([5298, 256])\n",
            "shape of the code attention_mask -> torch.Size([5298, 256])\n",
            "shape of the comment input_ids -> torch.Size([5298, 64])\n",
            "shape of the comment attention_mask -> torch.Size([5298, 64])\n"
          ]
        }
      ],
      "source": [
        "print(\"For test data\")\n",
        "Test = make_data_loader(test)"
      ]
    },
    {
      "cell_type": "markdown",
      "metadata": {
        "id": "A8JQ114DqpeI"
      },
      "source": [
        "## Develop model"
      ]
    },
    {
      "cell_type": "code",
      "execution_count": null,
      "metadata": {
        "id": "7g5_4AJJwkBY",
        "tags": []
      },
      "outputs": [],
      "source": [
        "class Beam(object):\n",
        "    def __init__(self, size,sos,eos):\n",
        "        \n",
        "        \"\"\"\n",
        "        @article{DBLP:journals/corr/abs-2102-04664,\n",
        "          author    = {Shuai Lu and\n",
        "                       Daya Guo and\n",
        "                       Shuo Ren and\n",
        "                       Junjie Huang and\n",
        "                       Alexey Svyatkovskiy and\n",
        "                       Ambrosio Blanco and\n",
        "                       Colin B. Clement and\n",
        "                       Dawn Drain and\n",
        "                       Daxin Jiang and\n",
        "                       Duyu Tang and\n",
        "                       Ge Li and\n",
        "                       Lidong Zhou and\n",
        "                       Linjun Shou and\n",
        "                       Long Zhou and\n",
        "                       Michele Tufano and\n",
        "                       Ming Gong and\n",
        "                       Ming Zhou and\n",
        "                       Nan Duan and\n",
        "                       Neel Sundaresan and\n",
        "                       Shao Kun Deng and\n",
        "                       Shengyu Fu and\n",
        "                       Shujie Liu},\n",
        "          title     = {CodeXGLUE: {A} Machine Learning Benchmark Dataset for Code Understanding\n",
        "                       and Generation},\n",
        "          journal   = {CoRR},\n",
        "          volume    = {abs/2102.04664},\n",
        "          year      = {2021}\n",
        "        }\n",
        "        \"\"\"\n",
        "        self.size = size\n",
        "        self.tt = torch.cuda\n",
        "        # The score for each translation on the beam.\n",
        "        self.scores = self.tt.FloatTensor(size).zero_()\n",
        "        # The backpointers at each time-step.\n",
        "        self.prevKs = []\n",
        "        # The outputs at each time-step.\n",
        "        self.nextYs = [self.tt.LongTensor(size)\n",
        "                       .fill_(0)]\n",
        "        self.nextYs[0][0] = sos\n",
        "        # Has EOS topped the beam yet.\n",
        "        self._eos = eos\n",
        "        self.eosTop = False\n",
        "        # Time and k pair for finished.\n",
        "        self.finished = []\n",
        "\n",
        "    def getCurrentState(self):\n",
        "        \"Get the outputs for the current timestep.\"\n",
        "        batch = self.tt.LongTensor(self.nextYs[-1]).view(-1, 1)\n",
        "        return batch\n",
        "\n",
        "    def getCurrentOrigin(self):\n",
        "        \"Get the backpointers for the current timestep.\"\n",
        "        return self.prevKs[-1]\n",
        "\n",
        "    def advance(self, wordLk):\n",
        "        \"\"\"\n",
        "        Given prob over words for every last beam `wordLk` and attention\n",
        "        `attnOut`: Compute and update the beam search.\n",
        "        Parameters:\n",
        "        * `wordLk`- probs of advancing from the last step (K x words)\n",
        "        * `attnOut`- attention at the last step\n",
        "        Returns: True if beam search is complete.\n",
        "        \"\"\"\n",
        "        numWords = wordLk.size(1)\n",
        "\n",
        "        # Sum the previous scores.\n",
        "        if len(self.prevKs) > 0:\n",
        "            beamLk = wordLk + self.scores.unsqueeze(1).expand_as(wordLk)\n",
        "\n",
        "            # Don't let EOS have children.\n",
        "            for i in range(self.nextYs[-1].size(0)):\n",
        "                if self.nextYs[-1][i] == self._eos:\n",
        "                    beamLk[i] = -1e20\n",
        "        else:\n",
        "            beamLk = wordLk[0]\n",
        "        flatBeamLk = beamLk.view(-1)\n",
        "        bestScores, bestScoresId = flatBeamLk.topk(self.size, 0, True, True)\n",
        "\n",
        "        self.scores = bestScores\n",
        "\n",
        "        # bestScoresId is flattened beam x word array, so calculate which\n",
        "        # word and beam each score came from\n",
        "        prevK = bestScoresId // numWords\n",
        "        self.prevKs.append(prevK)\n",
        "        self.nextYs.append((bestScoresId - prevK * numWords))\n",
        "\n",
        "\n",
        "        for i in range(self.nextYs[-1].size(0)):\n",
        "            if self.nextYs[-1][i] == self._eos:\n",
        "                s = self.scores[i]\n",
        "                self.finished.append((s, len(self.nextYs) - 1, i))\n",
        "\n",
        "        # End condition is when top-of-beam is EOS and no global score.\n",
        "        if self.nextYs[-1][0] == self._eos:\n",
        "            self.eosTop = True\n",
        "\n",
        "    def done(self):\n",
        "        return self.eosTop and len(self.finished) >=self.size\n",
        "\n",
        "    def getFinal(self):\n",
        "        if len(self.finished) == 0:\n",
        "            self.finished.append((self.scores[0], len(self.nextYs) - 1, 0))\n",
        "        self.finished.sort(key=lambda a: -a[0])\n",
        "        if len(self.finished) != self.size:\n",
        "            unfinished=[]\n",
        "            for i in range(self.nextYs[-1].size(0)):\n",
        "                if self.nextYs[-1][i] != self._eos:\n",
        "                    s = self.scores[i]\n",
        "                    unfinished.append((s, len(self.nextYs) - 1, i)) \n",
        "            unfinished.sort(key=lambda a: -a[0])\n",
        "            self.finished+=unfinished[:self.size-len(self.finished)]\n",
        "        return self.finished[:self.size]\n",
        "\n",
        "    def getHyp(self, beam_res):\n",
        "        \"\"\"\n",
        "        Walk back to construct the full hypothesis.\n",
        "        \"\"\"\n",
        "        hyps=[]\n",
        "        for _,timestep, k in beam_res:\n",
        "            hyp = []\n",
        "            for j in range(len(self.prevKs[:timestep]) - 1, -1, -1):\n",
        "                hyp.append(self.nextYs[j+1][k])\n",
        "                k = self.prevKs[j][k]\n",
        "            hyps.append(hyp[::-1])\n",
        "        return hyps\n",
        "    \n",
        "    def buildTargetTokens(self, preds):\n",
        "        sentence=[]\n",
        "        for pred in preds:\n",
        "            tokens = []\n",
        "            for tok in pred:\n",
        "                if tok==self._eos:\n",
        "                    break\n",
        "                tokens.append(tok)\n",
        "            sentence.append(tokens)\n",
        "        return sentence"
      ]
    },
    {
      "cell_type": "code",
      "execution_count": null,
      "metadata": {
        "id": "4RyFFFWVqpeI",
        "tags": []
      },
      "outputs": [],
      "source": [
        "class Code_Comment_Generator(pl.LightningModule):\n",
        "\n",
        "    def __init__(self, encoder, decoder, d_model, src_vocab_size, tgt_vocab_Size, pad_idx, dropout, src_max_length, tgt_max_length, config, lr, epoch, tokenizer ):\n",
        "\n",
        "        super(Code_Comment_Generator, self).__init__() \n",
        "\n",
        "        \n",
        "        self.d_model = d_model\n",
        "        self.pad_idx = pad_idx\n",
        "        self.lr = lr\n",
        "        self.epoch = epoch\n",
        "        self.tgt_max_length = tgt_max_length #\n",
        "        self.beam_size = 10\n",
        "        self.sos_id = 0\n",
        "        self.eos_id =2\n",
        "        self.tokenizer = tokenizer\n",
        "\n",
        "        self.test_cases = []        \n",
        "        self.eval_counter = 0\n",
        "\n",
        "        # pretrained config \n",
        "        self.config = config\n",
        "\n",
        "        # Roberta Encoder  layer \n",
        "        self.encoder = encoder\n",
        "\n",
        "        # Decoder Transformers \n",
        "        self.decoder = decoder\n",
        "\n",
        "\n",
        "        # Register buffer \n",
        "        self.register_buffer(\"bias\", torch.tril(torch.ones(2048, 2048))) # This is typically used to register a buffer that should not to be considered a model parameter.\n",
        "\n",
        "        # dense layers \n",
        "        self.dense_layer = nn.Linear(in_features= self.d_model, \n",
        "                                out_features= self.d_model)\n",
        "\n",
        "\n",
        "        # generator\n",
        "        self.generator = nn.Linear(in_features= self.d_model, \n",
        "                                out_features= tgt_vocab_Size,  bias=False)\n",
        "\n",
        "        self.dropout = nn.Dropout(p=dropout)\n",
        "\n",
        "        # final activation \n",
        "        self.log_softmax = nn.LogSoftmax(dim= -1)\n",
        "        \n",
        "        # sharing weights between the encoder and the decoder \n",
        "        self.share_weights() \n",
        "\n",
        "        \n",
        "\n",
        "    def share_weights(self):\n",
        "        \"\"\" \n",
        "            This is to ensure we are sharing weights between the encoder and fianl dense layer \n",
        "        \"\"\"\n",
        "\n",
        "        if self.config.torchscript:\n",
        "            self.generator.weight = nn.Parameter( data =  self.encoder.embeddings.word_embeddings.weight.clone()) \n",
        "        \n",
        "        else: \n",
        "            self.generator.weight = self.encoder.embeddings.word_embeddings.weight\n",
        "\n",
        "    \n",
        "    def forward(self, src = None, src_key_padding_mask= None, tgt= None, tgt_key_padding_mask= None):\n",
        "        \"\"\" \n",
        "        input  : source and taget tokens and attention mask \n",
        "        output : logits\n",
        "\n",
        "        \"\"\"\n",
        "\n",
        "\n",
        "        # encoder output, this gives us the context vector which is present in the last decoder layer \n",
        "\n",
        "        encoder_output = self.encoder(src, attention_mask = src_key_padding_mask )[0]# considering the output of the last encoder layer  : shape -> torch.Size([32, 212, 768]) -> [N,S,E]\n",
        "        encoder_output = encoder_output.permute([1,0,2]).contiguous() # rearanging tensor to shape -> torch.Size([212,32,768]) -> [S,N,E] \n",
        "\n",
        "        if tgt is not None: \n",
        "\n",
        "          tgt_mask = -1e4 *(1-self.bias[:tgt.shape[1],:tgt.shape[1]]).to(device= device) # shape -> trg_mask > torch.Size([42, 42])\n",
        "      \n",
        "          # encode the target embeddings \n",
        "          tgt_embedding = self.encoder.embeddings(tgt)                    # shape: torch.Size([32, 42, 768]) -> [N, T, E]\n",
        "          tgt_embedding = tgt_embedding.permute([1,0,2]).contiguous()     # shape: torch.Size([42, 32, 768]) -> [T, N, E]\n",
        "\n",
        "          # memeory key padding mask \n",
        "          memory_key_padding_mask = (1-src_key_padding_mask).bool()      # shape : torch.Size([32, 212])     -> [N, E]\n",
        "        \n",
        "        \n",
        "          # output of the decoder \n",
        "          output = self.decoder(tgt = tgt_embedding, \n",
        "                                  memory = encoder_output, \n",
        "                                  tgt_mask = tgt_mask, \n",
        "                                  memory_key_padding_mask = memory_key_padding_mask )               # torch.Size([42, 32, 768]) -> T, N, E\n",
        "\n",
        "\n",
        "\n",
        "\n",
        "          output =    torch.tanh( self.dropout(   self.dense_layer(output)  ) ).permute([1,0,2]).contiguous()  # activation + FC_1         # torch.Size([42, 32, 768])  -> T, N, E\n",
        "\n",
        "          output =  self.generator(output)                    # output shape :- torch.Size([42, 32, 50265]) -> T, N, TGT_Vocb_size\n",
        "\n",
        "\n",
        "          # calculate loss \n",
        "          active_loss = tgt_key_padding_mask[: , 1: ].ne(0).view(-1) == 1      # shape -> torch.Size([1312]) N*(T-1)\n",
        "\n",
        "          shift_logits = output[:, :-1, :].contiguous()                        # shape -> torch.Size([32, 41, 50265]) N, (T-1), TGT_vocab_size\n",
        "\n",
        "          shift_labels = tgt[:, 1:].contiguous()                            # shape -> torch.Size([32, 41])        N, (T-1)\n",
        "\n",
        "\n",
        "          # flatten the tokens and find the loss \n",
        "          y_hat = shift_logits.view(-1, shift_logits.shape[-1])[active_loss]  # predicted value flatened\n",
        "          y     = shift_labels.view(-1)[active_loss]                          # actual value flatten\n",
        "\n",
        "          # find the cross entropy loss \n",
        "          loss = F.cross_entropy(y_hat ,  y , ignore_index = self.pad_idx )\n",
        "\n",
        "          # memory management \n",
        "          del output\n",
        "          torch.cuda.empty_cache()\n",
        "          gc.collect()\n",
        "          pl.utilities.memory.garbage_collection_cuda()\n",
        "          pl.utilities.memory.get_gpu_memory_map()\n",
        "          \n",
        "\n",
        "          return loss #, loss*active_loss.sum() # train loss, evaluation loss \n",
        "        \n",
        "        else: \n",
        "          # prediction \n",
        "          preds = []\n",
        "\n",
        "          zero=torch.cuda.LongTensor(1).fill_(0)\n",
        "\n",
        "          for i in range(src.shape[0]):\n",
        "\n",
        "            context = encoder_output[:,i:i+1]\n",
        "\n",
        "            context_mask = src_key_padding_mask[i:i+1,:]\n",
        "\n",
        "            beam = Beam(self.beam_size, self.sos_id, self.eos_id) ####\n",
        "\n",
        "            input_ids=beam.getCurrentState()\n",
        "\n",
        "            context=context.repeat(1, self.beam_size,1)\n",
        "\n",
        "            context_mask=context_mask.repeat(self.beam_size,1)     \n",
        "\n",
        "            for _ in range(self.tgt_max_length):   #######\n",
        "              \n",
        "              if beam.done():\n",
        "                break\n",
        "\n",
        "              tgt_mask=-1e4 *(1-self.bias[:input_ids.shape[1],:input_ids.shape[1]]) \n",
        "\n",
        "              tgt_embedding = self.encoder.embeddings(input_ids).permute([1,0,2]).contiguous() \n",
        "\n",
        "              # memeory key padding mask \n",
        "              memory_key_padding_mask = (1-context_mask).bool()      # shape : torch.Size([32, 212])     -> [N, E]\n",
        "            \n",
        "            \n",
        "              # output of the decoder \n",
        "              output = self.decoder(tgt = tgt_embedding, \n",
        "                                      memory = context, \n",
        "                                      tgt_mask = tgt_mask, \n",
        "                                      memory_key_padding_mask = memory_key_padding_mask )               # torch.Size([42, 32, 768]) -> T, N, E\n",
        "\n",
        "\n",
        "\n",
        "\n",
        "              output =  torch.tanh( self.dropout(   self.dense_layer(output)  ) ).permute([1,0,2]).contiguous()[:,-1,:]  # activation + FC_1         # torch.Size([42, 32, 768])  -> T, N, E\n",
        "\n",
        "              output =  self.log_softmax( self.generator(output) ).data               # output shape :- torch.Size([42, 32, 50265]) -> T, N, TGT_Vocb_size\n",
        "\n",
        "              beam.advance(output)\n",
        "\n",
        "              input_ids.data.copy_(input_ids.data.index_select(0, beam.getCurrentOrigin()))\n",
        "              input_ids=torch.cat((input_ids,beam.getCurrentState()),-1)\n",
        "\n",
        "            hyp= beam.getHyp(beam.getFinal())\n",
        "            pred=beam.buildTargetTokens(hyp)[:self.beam_size]\n",
        "            pred=[torch.cat([x.view(-1) for x in p]+[zero]*(self.tgt_max_length -len(p))).view(1,-1) for p in pred]\n",
        "            preds.append(torch.cat(pred,0).unsqueeze(0))\n",
        "          \n",
        "          preds=torch.cat(preds,0)   \n",
        "\n",
        "          del output\n",
        "          del context\n",
        "          torch.cuda.empty_cache()\n",
        "          gc.collect()\n",
        "          pl.utilities.memory.garbage_collection_cuda()\n",
        "          pl.utilities.memory.get_gpu_memory_map() \n",
        "\n",
        "          return preds\n",
        "\n",
        "\n",
        "    def training_step(self, batch, batch_indx): \n",
        "\n",
        "\n",
        "        # train model\n",
        "        self.train()\n",
        "\n",
        "        # unrap and load all the trensors to device\n",
        "        src, src_key_padding_mask, tgt, tgt_key_padding_mask = tuple( i.to(device) for i in batch)\n",
        "\n",
        "        #returns loss\n",
        "        Loss  = self( src, src_key_padding_mask, tgt, tgt_key_padding_mask )\n",
        "\n",
        "        # log the loss \n",
        "        self.log(name= \"tran_loss\", value= Loss, on_step= True, on_epoch=True, prog_bar= True, logger= True)\n",
        "\n",
        "        # memory management\n",
        "        gc.collect()\n",
        "        pl.utilities.memory.garbage_collection_cuda()\n",
        "        pl.utilities.memory.get_gpu_memory_map()\n",
        "\n",
        "        return Loss\n",
        "\n",
        "    def validation_step(self, batch, batch_indx): \n",
        "\n",
        "\n",
        "        # evaluate model\n",
        "        self.eval()\n",
        "\n",
        "        if self.eval_counter == 400 : # self.train_dataloader().batch_size\n",
        "\n",
        "          code = \" def search_features(self, search): if isinstance(search, string_types): search = [search] search = [s.replace('*', '.*') for s in search] cols = list(self.data.columns) results = [] for s in search: results.extend([f for f in cols if re.match(s + '$', f)]) return list(set(results)) \" \n",
        "          doc = \"returns all features that match any of the elements in the input list.\"\n",
        "\n",
        "          print(f\"generated cmt : {self.generate_comment(code) }\")\n",
        "          print(f\"original cmt : {doc}\")  \n",
        "\n",
        "          self.test_cases.append(self.generate_comment(code))\n",
        "\n",
        "          self.eval_counter = 0\n",
        "\n",
        "\n",
        "        self.eval_counter += 1\n",
        "\n",
        "        # unrap and load all the trensors to device\n",
        "        src, src_key_padding_mask, tgt, tgt_key_padding_mask = tuple( i.to(device) for i in batch)\n",
        "\n",
        "        #returns loss\n",
        "        Loss  = self( src, src_key_padding_mask, tgt, tgt_key_padding_mask )\n",
        "\n",
        "\n",
        "        # log the loss \n",
        "        self.log(name= \"validation_loss\", value= Loss, on_step= True, on_epoch=True, prog_bar= True, logger= True)\n",
        "\n",
        "        # memory management\n",
        "        gc.collect()\n",
        "        pl.utilities.memory.garbage_collection_cuda()\n",
        "        pl.utilities.memory.get_gpu_memory_map()\n",
        "\n",
        "        return Loss\n",
        "\n",
        "\n",
        "    def configure_optimizers(self):\n",
        "\n",
        "\n",
        "        # Prepare optimizer and schedule (linear warmup and decay)\n",
        "        no_decay = ['bias', 'LayerNorm.weight']\n",
        "\n",
        "        optimizer_grouped_parameters = [\n",
        "            {'params': [p for n, p in self.named_parameters() if not any(nd in n for nd in no_decay)],\n",
        "             'weight_decay': 0.0 },\n",
        "            {'params': [p for n, p in self.named_parameters() if any(nd in n for nd in no_decay)], 'weight_decay': 0.0}\n",
        "        ]\n",
        "        \n",
        "        optimizer = torch.optim.AdamW(optimizer_grouped_parameters, lr = self.lr , eps= 1e-8 )\n",
        "        \n",
        "        nn.utils.clip_grad_norm_(self.parameters(), 1.0)\n",
        "\n",
        "        torch.autograd.set_detect_anomaly(True)\n",
        "\n",
        "        lr_scheduler = {\n",
        "            'scheduler' : transformers.get_linear_schedule_with_warmup(optimizer= optimizer, num_warmup_steps = 5000, num_training_steps= self.epoch * len(Test)  ), \n",
        "            'interval'  : \"step\", \n",
        "            'frequency' : 1, \n",
        "            'monitor'   : \"validation_loss\", \n",
        "        }\n",
        "\n",
        "\n",
        "\n",
        "        return {\"optimizer\": optimizer, \"lr_scheduler\": lr_scheduler}\n",
        "\n",
        "    def train_dataloader(self):\n",
        "\n",
        "      return  Train\n",
        "\n",
        "    def val_dataloader(self):    \n",
        "\n",
        "      return Valid\n",
        "\n",
        "\n",
        "    def generate_comment(self, code):\n",
        "      \"\"\"\n",
        "      input : single code string \n",
        "      output : Generated comment \n",
        "      \"\"\"\n",
        "\n",
        "      tokenized = self.tokenizer.encode_plus(code, max_length= 256, padding='max_length', return_attention_mask= True, truncation= True )\n",
        "\n",
        "      src = torch.LongTensor(tokenized['input_ids'] ).unsqueeze(1).reshape(1,-1).to(device)\n",
        "      src_key_padding_mask = torch.LongTensor(tokenized['attention_mask'] ).unsqueeze(1).reshape(1,-1).to(device)\n",
        "\n",
        "      gen_cmt = []\n",
        "\n",
        "      preds = self(src, src_key_padding_mask)\n",
        "\n",
        "      for pred in preds:\n",
        "        t  = pred[0].cpu().numpy()\n",
        "        t=list(t)\n",
        "        if 0 in t:\n",
        "          t=t[:t.index(0)]\n",
        "        text = self.tokenizer.decode(t,clean_up_tokenization_spaces=False)\n",
        "        \n",
        "        gen_cmt.append(text)\n",
        "\n",
        "      return gen_cmt\n",
        " "
      ]
    },
    {
      "cell_type": "code",
      "execution_count": null,
      "metadata": {
        "colab": {
          "base_uri": "https://localhost:8080/"
        },
        "id": "sEP_Ewo_qpeJ",
        "outputId": "adeb300b-3e27-424b-b4c1-80fdf1b3698b",
        "tags": []
      },
      "outputs": [
        {
          "name": "stderr",
          "output_type": "stream",
          "text": [
            "\u001b[34m\u001b[1mwandb\u001b[0m: Currently logged in as: \u001b[33msyedjunaidiqbal\u001b[0m. Use \u001b[1m`wandb login --relogin`\u001b[0m to force relogin\n"
          ]
        },
        {
          "data": {
            "text/plain": [
              "True"
            ]
          },
          "execution_count": 30,
          "metadata": {},
          "output_type": "execute_result"
        }
      ],
      "source": [
        "# log in to weight and bias \n",
        "\n",
        "wandb.login()\n",
        "\n",
        "# !wandb login --relogin. # eff91dd48ca6e7c55dfef9359e810cf3747cd6a2"
      ]
    },
    {
      "cell_type": "code",
      "execution_count": null,
      "metadata": {
        "id": "QRn-YStVqpeJ",
        "tags": []
      },
      "outputs": [],
      "source": [
        "from pytorch_lightning import Trainer\n",
        "from pytorch_lightning.callbacks import EarlyStopping, ModelCheckpoint, LearningRateMonitor\n",
        "from pytorch_lightning.loggers import WandbLogger\n"
      ]
    },
    {
      "cell_type": "code",
      "execution_count": null,
      "metadata": {
        "id": "VLbYf80vkc6N",
        "tags": []
      },
      "outputs": [],
      "source": [
        "#pretrained configuration\n",
        "config = transformers.RobertaConfig.from_pretrained(\"microsoft/codebert-base\")\n",
        "\n",
        "d_model = config.hidden_size\n",
        "src_vocab_size = tokenizer.vocab_size\n",
        "tgt_vocab_Size = tokenizer.vocab_size\n",
        "pad_idx = tokenizer.pad_token_id\n",
        "dropout = 0.5\n",
        "src_max_length = code_max_length\n",
        "tgt_max_length = cmt_max_length\n",
        "epoch = 1000\n",
        "lr = 5e-5\n",
        "\n",
        "# object of seq2seql model\n",
        "# seq2seql = Seq2Seq(d_model, src_vocab_size, tgt_vocab_Size, pad_idx, dropout, src_max_length, tgt_max_length, encoder, decoder, config ).to(device = device)\n",
        "\n",
        "# Roberta Encoder  layer \n",
        "encoder = transformers.RobertaModel.from_pretrained(pretrained_model_name_or_path= \"microsoft/codebert-base\", config =  config ) \n",
        "\n",
        "\n",
        "# Decoder Transformers \n",
        "decoder_layer = torch.nn.TransformerDecoderLayer(d_model= config.hidden_size, nhead= config.num_attention_heads)\n",
        "decoder = torch.nn.TransformerDecoder(decoder_layer= decoder_layer, num_layers= 6)\n",
        "\n",
        "# lightning model \n",
        "model = Code_Comment_Generator(encoder, decoder, d_model, src_vocab_size, tgt_vocab_Size, pad_idx, dropout, src_max_length, tgt_max_length, config, lr, epoch, tokenizer).to(device)\n"
      ]
    },
    {
      "cell_type": "code",
      "execution_count": null,
      "metadata": {
        "colab": {
          "base_uri": "https://localhost:8080/"
        },
        "id": "zmhjcglGqpeJ",
        "jupyter": {
          "source_hidden": true
        },
        "outputId": "245e7803-2d0c-4d09-9c50-154f209aba95",
        "tags": []
      },
      "outputs": [
        {
          "data": {
            "text/html": [
              "Tracking run with wandb version 0.13.1"
            ],
            "text/plain": [
              "<IPython.core.display.HTML object>"
            ]
          },
          "metadata": {},
          "output_type": "display_data"
        },
        {
          "data": {
            "text/html": [
              "Run data is saved locally in <code>./saved_javascript_model_weights/wandb/run-20220811_091442-10rtzfnn</code>"
            ],
            "text/plain": [
              "<IPython.core.display.HTML object>"
            ]
          },
          "metadata": {},
          "output_type": "display_data"
        },
        {
          "data": {
            "text/html": [
              "Syncing run <strong><a href=\"https://wandb.ai/syedjunaidiqbal/Desertation_Final_extras/runs/10rtzfnn\" target=\"_blank\">Transformers_for_javascript_Code_Comment_Generator_code_size_256_with_code_comment</a></strong> to <a href=\"https://wandb.ai/syedjunaidiqbal/Desertation_Final_extras\" target=\"_blank\">Weights & Biases</a> (<a href=\"https://wandb.me/run\" target=\"_blank\">docs</a>)<br/>"
            ],
            "text/plain": [
              "<IPython.core.display.HTML object>"
            ]
          },
          "metadata": {},
          "output_type": "display_data"
        },
        {
          "name": "stderr",
          "output_type": "stream",
          "text": [
            "\u001b[34m\u001b[1mwandb\u001b[0m: logging graph, to disable use `wandb.watch(log_graph=False)`\n",
            "Using 16bit native Automatic Mixed Precision (AMP)\n",
            "GPU available: True (cuda), used: True\n",
            "TPU available: False, using: 0 TPU cores\n",
            "IPU available: False, using: 0 IPUs\n",
            "HPU available: False, using: 0 HPUs\n"
          ]
        }
      ],
      "source": [
        "# lightning configuration\n",
        "\n",
        "lr_monitor = LearningRateMonitor(logging_interval = \"step\" )\n",
        "\n",
        "early_stopping = EarlyStopping(monitor= \"validation_loss\", \n",
        "                               min_delta = 0.001,\n",
        "                               patience= 5, \n",
        "                               strict= True, \n",
        "                               verbose= True, \n",
        "                               mode = 'min') \n",
        "\n",
        "model_checkpoint = ModelCheckpoint(dirpath= f\"./saved_{language}_model_weights/\", \n",
        "                                   save_last=True, \n",
        "                                   monitor=\"validation_loss\",  \n",
        "                                   save_on_train_epoch_end = True, \n",
        "                                   mode=\"min\", \n",
        "                                   save_top_k = 0)\n",
        "\n",
        "\n",
        "wandb_logger = WandbLogger(name= f'Transformers_for_{language}_Code_Comment_Generator_code_size_256_with_code_comment', \n",
        "                           project='Desertation_Final_extras', \n",
        "                           log_model= True, \n",
        "                           save_dir = f\"./saved_{language}_model_weights/\" )\n",
        "\n",
        "wandb_logger.watch(model, log=\"all\")\n",
        "\n",
        "trainer = Trainer(callbacks= [lr_monitor, early_stopping, model_checkpoint], \n",
        "                  devices= 1 , \n",
        "                  gradient_clip_algorithm= 'norm', \n",
        "                  accelerator='gpu', \n",
        "                  enable_progress_bar= True, \n",
        "                  default_root_dir = f\"./saved_{language}_model_weights/default_root_dir/\", \n",
        "                  max_epochs = epoch , \n",
        "                  logger = wandb_logger, \n",
        "                  strategy=\"dp\" , precision=16) "
      ]
    },
    {
      "cell_type": "code",
      "source": [
        "# load pre-trained weights if available, else train from scratch \n",
        " \n",
        "if os.path.exists(\"/content/models\"):\n",
        "\n",
        "  checkpoint = torch.load(load_model)\n",
        "  model.load_state_dict(checkpoint['state_dict'])"
      ],
      "metadata": {
        "id": "1PecxDXCQBNE"
      },
      "execution_count": null,
      "outputs": []
    },
    {
      "cell_type": "code",
      "execution_count": null,
      "metadata": {
        "colab": {
          "base_uri": "https://localhost:8080/",
          "height": 381,
          "referenced_widgets": [
            "00942e804e6a4b65aca7f1dc8a23f57a",
            "1b794ec3dcf6473199a81e021c90208c",
            "31070e366a454090845c4d7ba0364518",
            "0e59d43823804ecc8e1c1d539b3d22b3",
            "febd047a37e14b05b9d705fe8fd388ab",
            "022d2db88e4142bf9dbbf15d784b54ee",
            "23d868d9438745b2ba764e7993d1cd5f",
            "04531e3fe03843b6b51e9acc11490eeb",
            "93b1819f534c4eccb15ffbd1dd1dd959",
            "4bf32dea85d54ccbaa3f5e4f8e442f56",
            "bee45f87e44c42c19a130c8dcd1ed02e",
            "9734fc1840c54bc1913b2df69cbe732a",
            "caff0d7acb444bc6bb1083c726cec710",
            "def1b9a22aa14dfe9ed934d1b3248674",
            "6596dc4f56f14264a1fd59d42f8a62a9",
            "e8f234ff8caf4edc99e6b688a5cc4aad",
            "e4e7543cb1b845c9b48dce4eb96be292",
            "a81264bcda4742b88519caaf0776fd43",
            "9cf7873e2a6b4641b4b02d0942fdca4a",
            "df72278aece747fabadb28de1c23d398",
            "6398d0ef0b32464d9326e231f15eb637",
            "aec1582cccd34a8a8830d182c9ee8bbb",
            "e30b48b1179e4de1a862abe0350e305a",
            "c8b8bac5669a4c06a480f50e31e96ed0",
            "a1a2997a83874334ad83aa7b72d1096a",
            "2332c7e21c724fc6bbf2f834a9279b87",
            "afa48916f38e44488f20147dcb44403b",
            "fae7af95692846c58bf748d5de544b84",
            "09510aa60f344e91bcaba38d9b9ab4d7",
            "1df3aec6bfd445f3a2929540dd6c0944",
            "5edd7b6cd2cd4a968c504a0e75ea70cb",
            "33575d1d4fbf4cf3a78384481a83d7a1",
            "7446f38ab0284a259f90e21fd64ada11",
            "",
            "aaab5fa39df4475f92c638b567f12b86"
          ]
        },
        "id": "bECiWq2RqpeJ",
        "outputId": "92efbdcf-f8ba-41ab-eb61-3413e9318c50",
        "tags": []
      },
      "outputs": [
        {
          "name": "stderr",
          "output_type": "stream",
          "text": [
            "LOCAL_RANK: 0 - CUDA_VISIBLE_DEVICES: [0]\n",
            "\n",
            "  | Name        | Type               | Params\n",
            "---------------------------------------------------\n",
            "0 | encoder     | RobertaModel       | 124 M \n",
            "1 | decoder     | TransformerDecoder | 47.3 M\n",
            "2 | dense_layer | Linear             | 590 K \n",
            "3 | generator   | Linear             | 38.6 M\n",
            "4 | dropout     | Dropout            | 0     \n",
            "5 | log_softmax | LogSoftmax         | 0     \n",
            "---------------------------------------------------\n",
            "172 M     Trainable params\n",
            "0         Non-trainable params\n",
            "172 M     Total params\n",
            "345.007   Total estimated model params size (MB)\n"
          ]
        },
        {
          "data": {
            "application/vnd.jupyter.widget-view+json": {
              "model_id": "",
              "version_major": 2,
              "version_minor": 0
            },
            "text/plain": [
              "Sanity Checking: 0it [00:00, ?it/s]"
            ]
          },
          "metadata": {},
          "output_type": "display_data"
        },
        {
          "data": {
            "application/vnd.jupyter.widget-view+json": {
              "model_id": "aaab5fa39df4475f92c638b567f12b86",
              "version_major": 2,
              "version_minor": 0
            },
            "text/plain": [
              "Training: 0it [00:00, ?it/s]"
            ]
          },
          "metadata": {},
          "output_type": "display_data"
        },
        {
          "data": {
            "application/vnd.jupyter.widget-view+json": {
              "model_id": "",
              "version_major": 2,
              "version_minor": 0
            },
            "text/plain": [
              "Validation: 0it [00:00, ?it/s]"
            ]
          },
          "metadata": {},
          "output_type": "display_data"
        },
        {
          "name": "stderr",
          "output_type": "stream",
          "text": [
            "Metric validation_loss improved. New best score: 5.409\n"
          ]
        },
        {
          "data": {
            "application/vnd.jupyter.widget-view+json": {
              "model_id": "",
              "version_major": 2,
              "version_minor": 0
            },
            "text/plain": [
              "Validation: 0it [00:00, ?it/s]"
            ]
          },
          "metadata": {},
          "output_type": "display_data"
        },
        {
          "name": "stdout",
          "output_type": "stream",
          "text": [
            "generated cmt : ['returns the list of the given list of the given list of the given list of the given list of the given list of the given list. @param {array} search @param {array} searcharray @return {array}']\n",
            "original cmt : returns all features that match any of the elements in the input list.\n"
          ]
        },
        {
          "name": "stderr",
          "output_type": "stream",
          "text": [
            "Metric validation_loss improved by 0.686 >= min_delta = 0.001. New best score: 4.723\n"
          ]
        },
        {
          "data": {
            "application/vnd.jupyter.widget-view+json": {
              "model_id": "",
              "version_major": 2,
              "version_minor": 0
            },
            "text/plain": [
              "Validation: 0it [00:00, ?it/s]"
            ]
          },
          "metadata": {},
          "output_type": "display_data"
        },
        {
          "name": "stderr",
          "output_type": "stream",
          "text": [
            "Metric validation_loss improved by 0.442 >= min_delta = 0.001. New best score: 4.282\n"
          ]
        },
        {
          "data": {
            "application/vnd.jupyter.widget-view+json": {
              "model_id": "",
              "version_major": 2,
              "version_minor": 0
            },
            "text/plain": [
              "Validation: 0it [00:00, ?it/s]"
            ]
          },
          "metadata": {},
          "output_type": "display_data"
        },
        {
          "name": "stdout",
          "output_type": "stream",
          "text": [
            "generated cmt : ['returns the list of features in the list of features']\n",
            "original cmt : returns all features that match any of the elements in the input list.\n"
          ]
        },
        {
          "name": "stderr",
          "output_type": "stream",
          "text": [
            "Metric validation_loss improved by 0.174 >= min_delta = 0.001. New best score: 4.108\n"
          ]
        },
        {
          "data": {
            "application/vnd.jupyter.widget-view+json": {
              "model_id": "",
              "version_major": 2,
              "version_minor": 0
            },
            "text/plain": [
              "Validation: 0it [00:00, ?it/s]"
            ]
          },
          "metadata": {},
          "output_type": "display_data"
        },
        {
          "name": "stderr",
          "output_type": "stream",
          "text": [
            "Metric validation_loss improved by 0.151 >= min_delta = 0.001. New best score: 3.957\n"
          ]
        },
        {
          "data": {
            "application/vnd.jupyter.widget-view+json": {
              "model_id": "",
              "version_major": 2,
              "version_minor": 0
            },
            "text/plain": [
              "Validation: 0it [00:00, ?it/s]"
            ]
          },
          "metadata": {},
          "output_type": "display_data"
        },
        {
          "name": "stdout",
          "output_type": "stream",
          "text": [
            "generated cmt : ['search for features']\n",
            "original cmt : returns all features that match any of the elements in the input list.\n"
          ]
        },
        {
          "name": "stderr",
          "output_type": "stream",
          "text": [
            "Metric validation_loss improved by 0.018 >= min_delta = 0.001. New best score: 3.938\n"
          ]
        }
      ],
      "source": [
        "trainer.fit(model)"
      ]
    },
    {
      "cell_type": "code",
      "execution_count": null,
      "metadata": {
        "id": "uTt5o02EqpeJ"
      },
      "outputs": [],
      "source": [
        "\"\"\"\n",
        "function ClickConnect(){\n",
        "console.log(\"Working\"); \n",
        "document.querySelector(\"colab-toolbar-button#connect\").click() \n",
        "}\n",
        "setInterval(ClickConnect,600000000)\n",
        "\"\"\""
      ]
    },
    {
      "cell_type": "code",
      "execution_count": null,
      "metadata": {
        "id": "XNa0Pwg5OXNG"
      },
      "outputs": [],
      "source": []
    }
  ],
  "metadata": {
    "accelerator": "GPU",
    "colab": {
      "collapsed_sections": [],
      "machine_shape": "hm",
      "provenance": []
    },
    "gpuClass": "standard",
    "kernelspec": {
      "display_name": "Python 3 (ipykernel)",
      "language": "python",
      "name": "python3"
    },
    "language_info": {
      "codemirror_mode": {
        "name": "ipython",
        "version": 3
      },
      "file_extension": ".py",
      "mimetype": "text/x-python",
      "name": "python",
      "nbconvert_exporter": "python",
      "pygments_lexer": "ipython3",
      "version": "3.9.13"
    },
    "vscode": {
      "interpreter": {
        "hash": "65f816f3116ecd6eed356d511655e1457ced5db72acd8ea8583081b213683f9f"
      }
    },
    "widgets": {
      "application/vnd.jupyter.widget-state+json": {
        "00942e804e6a4b65aca7f1dc8a23f57a": {
          "model_module": "@jupyter-widgets/controls",
          "model_module_version": "1.5.0",
          "model_name": "HBoxModel",
          "state": {
            "_dom_classes": [],
            "_model_module": "@jupyter-widgets/controls",
            "_model_module_version": "1.5.0",
            "_model_name": "HBoxModel",
            "_view_count": null,
            "_view_module": "@jupyter-widgets/controls",
            "_view_module_version": "1.5.0",
            "_view_name": "HBoxView",
            "box_style": "",
            "children": [
              "IPY_MODEL_1b794ec3dcf6473199a81e021c90208c",
              "IPY_MODEL_31070e366a454090845c4d7ba0364518",
              "IPY_MODEL_0e59d43823804ecc8e1c1d539b3d22b3"
            ],
            "layout": "IPY_MODEL_febd047a37e14b05b9d705fe8fd388ab"
          }
        },
        "022d2db88e4142bf9dbbf15d784b54ee": {
          "model_module": "@jupyter-widgets/base",
          "model_module_version": "1.2.0",
          "model_name": "LayoutModel",
          "state": {
            "_model_module": "@jupyter-widgets/base",
            "_model_module_version": "1.2.0",
            "_model_name": "LayoutModel",
            "_view_count": null,
            "_view_module": "@jupyter-widgets/base",
            "_view_module_version": "1.2.0",
            "_view_name": "LayoutView",
            "align_content": null,
            "align_items": null,
            "align_self": null,
            "border": null,
            "bottom": null,
            "display": null,
            "flex": null,
            "flex_flow": null,
            "grid_area": null,
            "grid_auto_columns": null,
            "grid_auto_flow": null,
            "grid_auto_rows": null,
            "grid_column": null,
            "grid_gap": null,
            "grid_row": null,
            "grid_template_areas": null,
            "grid_template_columns": null,
            "grid_template_rows": null,
            "height": null,
            "justify_content": null,
            "justify_items": null,
            "left": null,
            "margin": null,
            "max_height": null,
            "max_width": null,
            "min_height": null,
            "min_width": null,
            "object_fit": null,
            "object_position": null,
            "order": null,
            "overflow": null,
            "overflow_x": null,
            "overflow_y": null,
            "padding": null,
            "right": null,
            "top": null,
            "visibility": null,
            "width": null
          }
        },
        "04531e3fe03843b6b51e9acc11490eeb": {
          "model_module": "@jupyter-widgets/base",
          "model_module_version": "1.2.0",
          "model_name": "LayoutModel",
          "state": {
            "_model_module": "@jupyter-widgets/base",
            "_model_module_version": "1.2.0",
            "_model_name": "LayoutModel",
            "_view_count": null,
            "_view_module": "@jupyter-widgets/base",
            "_view_module_version": "1.2.0",
            "_view_name": "LayoutView",
            "align_content": null,
            "align_items": null,
            "align_self": null,
            "border": null,
            "bottom": null,
            "display": null,
            "flex": "2",
            "flex_flow": null,
            "grid_area": null,
            "grid_auto_columns": null,
            "grid_auto_flow": null,
            "grid_auto_rows": null,
            "grid_column": null,
            "grid_gap": null,
            "grid_row": null,
            "grid_template_areas": null,
            "grid_template_columns": null,
            "grid_template_rows": null,
            "height": null,
            "justify_content": null,
            "justify_items": null,
            "left": null,
            "margin": null,
            "max_height": null,
            "max_width": null,
            "min_height": null,
            "min_width": null,
            "object_fit": null,
            "object_position": null,
            "order": null,
            "overflow": null,
            "overflow_x": null,
            "overflow_y": null,
            "padding": null,
            "right": null,
            "top": null,
            "visibility": null,
            "width": null
          }
        },
        "09510aa60f344e91bcaba38d9b9ab4d7": {
          "model_module": "@jupyter-widgets/controls",
          "model_module_version": "1.5.0",
          "model_name": "DescriptionStyleModel",
          "state": {
            "_model_module": "@jupyter-widgets/controls",
            "_model_module_version": "1.5.0",
            "_model_name": "DescriptionStyleModel",
            "_view_count": null,
            "_view_module": "@jupyter-widgets/base",
            "_view_module_version": "1.2.0",
            "_view_name": "StyleView",
            "description_width": ""
          }
        },
        "0e59d43823804ecc8e1c1d539b3d22b3": {
          "model_module": "@jupyter-widgets/controls",
          "model_module_version": "1.5.0",
          "model_name": "HTMLModel",
          "state": {
            "_dom_classes": [],
            "_model_module": "@jupyter-widgets/controls",
            "_model_module_version": "1.5.0",
            "_model_name": "HTMLModel",
            "_view_count": null,
            "_view_module": "@jupyter-widgets/controls",
            "_view_module_version": "1.5.0",
            "_view_name": "HTMLView",
            "description": "",
            "description_tooltip": null,
            "layout": "IPY_MODEL_4bf32dea85d54ccbaa3f5e4f8e442f56",
            "placeholder": "​",
            "style": "IPY_MODEL_bee45f87e44c42c19a130c8dcd1ed02e",
            "value": " 2/2 [00:03&lt;00:00,  1.94s/it]"
          }
        },
        "1b794ec3dcf6473199a81e021c90208c": {
          "model_module": "@jupyter-widgets/controls",
          "model_module_version": "1.5.0",
          "model_name": "HTMLModel",
          "state": {
            "_dom_classes": [],
            "_model_module": "@jupyter-widgets/controls",
            "_model_module_version": "1.5.0",
            "_model_name": "HTMLModel",
            "_view_count": null,
            "_view_module": "@jupyter-widgets/controls",
            "_view_module_version": "1.5.0",
            "_view_name": "HTMLView",
            "description": "",
            "description_tooltip": null,
            "layout": "IPY_MODEL_022d2db88e4142bf9dbbf15d784b54ee",
            "placeholder": "​",
            "style": "IPY_MODEL_23d868d9438745b2ba764e7993d1cd5f",
            "value": "Sanity Checking DataLoader 0: 100%"
          }
        },
        "1df3aec6bfd445f3a2929540dd6c0944": {
          "model_module": "@jupyter-widgets/base",
          "model_module_version": "1.2.0",
          "model_name": "LayoutModel",
          "state": {
            "_model_module": "@jupyter-widgets/base",
            "_model_module_version": "1.2.0",
            "_model_name": "LayoutModel",
            "_view_count": null,
            "_view_module": "@jupyter-widgets/base",
            "_view_module_version": "1.2.0",
            "_view_name": "LayoutView",
            "align_content": null,
            "align_items": null,
            "align_self": null,
            "border": null,
            "bottom": null,
            "display": null,
            "flex": "2",
            "flex_flow": null,
            "grid_area": null,
            "grid_auto_columns": null,
            "grid_auto_flow": null,
            "grid_auto_rows": null,
            "grid_column": null,
            "grid_gap": null,
            "grid_row": null,
            "grid_template_areas": null,
            "grid_template_columns": null,
            "grid_template_rows": null,
            "height": null,
            "justify_content": null,
            "justify_items": null,
            "left": null,
            "margin": null,
            "max_height": null,
            "max_width": null,
            "min_height": null,
            "min_width": null,
            "object_fit": null,
            "object_position": null,
            "order": null,
            "overflow": null,
            "overflow_x": null,
            "overflow_y": null,
            "padding": null,
            "right": null,
            "top": null,
            "visibility": null,
            "width": null
          }
        },
        "2332c7e21c724fc6bbf2f834a9279b87": {
          "model_module": "@jupyter-widgets/controls",
          "model_module_version": "1.5.0",
          "model_name": "HTMLModel",
          "state": {
            "_dom_classes": [],
            "_model_module": "@jupyter-widgets/controls",
            "_model_module_version": "1.5.0",
            "_model_name": "HTMLModel",
            "_view_count": null,
            "_view_module": "@jupyter-widgets/controls",
            "_view_module_version": "1.5.0",
            "_view_name": "HTMLView",
            "description": "",
            "description_tooltip": null,
            "layout": "IPY_MODEL_33575d1d4fbf4cf3a78384481a83d7a1",
            "placeholder": "​",
            "style": "IPY_MODEL_7446f38ab0284a259f90e21fd64ada11",
            "value": " 535/535 [15:20&lt;00:00,  1.72s/it]"
          }
        },
        "23d868d9438745b2ba764e7993d1cd5f": {
          "model_module": "@jupyter-widgets/controls",
          "model_module_version": "1.5.0",
          "model_name": "DescriptionStyleModel",
          "state": {
            "_model_module": "@jupyter-widgets/controls",
            "_model_module_version": "1.5.0",
            "_model_name": "DescriptionStyleModel",
            "_view_count": null,
            "_view_module": "@jupyter-widgets/base",
            "_view_module_version": "1.2.0",
            "_view_name": "StyleView",
            "description_width": ""
          }
        },
        "31070e366a454090845c4d7ba0364518": {
          "model_module": "@jupyter-widgets/controls",
          "model_module_version": "1.5.0",
          "model_name": "FloatProgressModel",
          "state": {
            "_dom_classes": [],
            "_model_module": "@jupyter-widgets/controls",
            "_model_module_version": "1.5.0",
            "_model_name": "FloatProgressModel",
            "_view_count": null,
            "_view_module": "@jupyter-widgets/controls",
            "_view_module_version": "1.5.0",
            "_view_name": "ProgressView",
            "bar_style": "",
            "description": "",
            "description_tooltip": null,
            "layout": "IPY_MODEL_04531e3fe03843b6b51e9acc11490eeb",
            "max": 2,
            "min": 0,
            "orientation": "horizontal",
            "style": "IPY_MODEL_93b1819f534c4eccb15ffbd1dd1dd959",
            "value": 2
          }
        },
        "33575d1d4fbf4cf3a78384481a83d7a1": {
          "model_module": "@jupyter-widgets/base",
          "model_module_version": "1.2.0",
          "model_name": "LayoutModel",
          "state": {
            "_model_module": "@jupyter-widgets/base",
            "_model_module_version": "1.2.0",
            "_model_name": "LayoutModel",
            "_view_count": null,
            "_view_module": "@jupyter-widgets/base",
            "_view_module_version": "1.2.0",
            "_view_name": "LayoutView",
            "align_content": null,
            "align_items": null,
            "align_self": null,
            "border": null,
            "bottom": null,
            "display": null,
            "flex": null,
            "flex_flow": null,
            "grid_area": null,
            "grid_auto_columns": null,
            "grid_auto_flow": null,
            "grid_auto_rows": null,
            "grid_column": null,
            "grid_gap": null,
            "grid_row": null,
            "grid_template_areas": null,
            "grid_template_columns": null,
            "grid_template_rows": null,
            "height": null,
            "justify_content": null,
            "justify_items": null,
            "left": null,
            "margin": null,
            "max_height": null,
            "max_width": null,
            "min_height": null,
            "min_width": null,
            "object_fit": null,
            "object_position": null,
            "order": null,
            "overflow": null,
            "overflow_x": null,
            "overflow_y": null,
            "padding": null,
            "right": null,
            "top": null,
            "visibility": null,
            "width": null
          }
        },
        "4bf32dea85d54ccbaa3f5e4f8e442f56": {
          "model_module": "@jupyter-widgets/base",
          "model_module_version": "1.2.0",
          "model_name": "LayoutModel",
          "state": {
            "_model_module": "@jupyter-widgets/base",
            "_model_module_version": "1.2.0",
            "_model_name": "LayoutModel",
            "_view_count": null,
            "_view_module": "@jupyter-widgets/base",
            "_view_module_version": "1.2.0",
            "_view_name": "LayoutView",
            "align_content": null,
            "align_items": null,
            "align_self": null,
            "border": null,
            "bottom": null,
            "display": null,
            "flex": null,
            "flex_flow": null,
            "grid_area": null,
            "grid_auto_columns": null,
            "grid_auto_flow": null,
            "grid_auto_rows": null,
            "grid_column": null,
            "grid_gap": null,
            "grid_row": null,
            "grid_template_areas": null,
            "grid_template_columns": null,
            "grid_template_rows": null,
            "height": null,
            "justify_content": null,
            "justify_items": null,
            "left": null,
            "margin": null,
            "max_height": null,
            "max_width": null,
            "min_height": null,
            "min_width": null,
            "object_fit": null,
            "object_position": null,
            "order": null,
            "overflow": null,
            "overflow_x": null,
            "overflow_y": null,
            "padding": null,
            "right": null,
            "top": null,
            "visibility": null,
            "width": null
          }
        },
        "5edd7b6cd2cd4a968c504a0e75ea70cb": {
          "model_module": "@jupyter-widgets/controls",
          "model_module_version": "1.5.0",
          "model_name": "ProgressStyleModel",
          "state": {
            "_model_module": "@jupyter-widgets/controls",
            "_model_module_version": "1.5.0",
            "_model_name": "ProgressStyleModel",
            "_view_count": null,
            "_view_module": "@jupyter-widgets/base",
            "_view_module_version": "1.2.0",
            "_view_name": "StyleView",
            "bar_color": null,
            "description_width": ""
          }
        },
        "6398d0ef0b32464d9326e231f15eb637": {
          "model_module": "@jupyter-widgets/base",
          "model_module_version": "1.2.0",
          "model_name": "LayoutModel",
          "state": {
            "_model_module": "@jupyter-widgets/base",
            "_model_module_version": "1.2.0",
            "_model_name": "LayoutModel",
            "_view_count": null,
            "_view_module": "@jupyter-widgets/base",
            "_view_module_version": "1.2.0",
            "_view_name": "LayoutView",
            "align_content": null,
            "align_items": null,
            "align_self": null,
            "border": null,
            "bottom": null,
            "display": null,
            "flex": null,
            "flex_flow": null,
            "grid_area": null,
            "grid_auto_columns": null,
            "grid_auto_flow": null,
            "grid_auto_rows": null,
            "grid_column": null,
            "grid_gap": null,
            "grid_row": null,
            "grid_template_areas": null,
            "grid_template_columns": null,
            "grid_template_rows": null,
            "height": null,
            "justify_content": null,
            "justify_items": null,
            "left": null,
            "margin": null,
            "max_height": null,
            "max_width": null,
            "min_height": null,
            "min_width": null,
            "object_fit": null,
            "object_position": null,
            "order": null,
            "overflow": null,
            "overflow_x": null,
            "overflow_y": null,
            "padding": null,
            "right": null,
            "top": null,
            "visibility": null,
            "width": null
          }
        },
        "6596dc4f56f14264a1fd59d42f8a62a9": {
          "model_module": "@jupyter-widgets/controls",
          "model_module_version": "1.5.0",
          "model_name": "HTMLModel",
          "state": {
            "_dom_classes": [],
            "_model_module": "@jupyter-widgets/controls",
            "_model_module_version": "1.5.0",
            "_model_name": "HTMLModel",
            "_view_count": null,
            "_view_module": "@jupyter-widgets/controls",
            "_view_module_version": "1.5.0",
            "_view_name": "HTMLView",
            "description": "",
            "description_tooltip": null,
            "layout": "IPY_MODEL_6398d0ef0b32464d9326e231f15eb637",
            "placeholder": "​",
            "style": "IPY_MODEL_aec1582cccd34a8a8830d182c9ee8bbb",
            "value": " 420/7269 [18:53&lt;5:08:09,  2.70s/it, loss=4.04, v_num=iogm, tran_loss_step=4.310, validation_loss_step=4.650, validation_loss_epoch=4.730, tran_loss_epoch=5.340]"
          }
        },
        "7446f38ab0284a259f90e21fd64ada11": {
          "model_module": "@jupyter-widgets/controls",
          "model_module_version": "1.5.0",
          "model_name": "DescriptionStyleModel",
          "state": {
            "_model_module": "@jupyter-widgets/controls",
            "_model_module_version": "1.5.0",
            "_model_name": "DescriptionStyleModel",
            "_view_count": null,
            "_view_module": "@jupyter-widgets/base",
            "_view_module_version": "1.2.0",
            "_view_name": "StyleView",
            "description_width": ""
          }
        },
        "93b1819f534c4eccb15ffbd1dd1dd959": {
          "model_module": "@jupyter-widgets/controls",
          "model_module_version": "1.5.0",
          "model_name": "ProgressStyleModel",
          "state": {
            "_model_module": "@jupyter-widgets/controls",
            "_model_module_version": "1.5.0",
            "_model_name": "ProgressStyleModel",
            "_view_count": null,
            "_view_module": "@jupyter-widgets/base",
            "_view_module_version": "1.2.0",
            "_view_name": "StyleView",
            "bar_color": null,
            "description_width": ""
          }
        },
        "9734fc1840c54bc1913b2df69cbe732a": {
          "model_module": "@jupyter-widgets/controls",
          "model_module_version": "1.5.0",
          "model_name": "HBoxModel",
          "state": {
            "_dom_classes": [],
            "_model_module": "@jupyter-widgets/controls",
            "_model_module_version": "1.5.0",
            "_model_name": "HBoxModel",
            "_view_count": null,
            "_view_module": "@jupyter-widgets/controls",
            "_view_module_version": "1.5.0",
            "_view_name": "HBoxView",
            "box_style": "",
            "children": [
              "IPY_MODEL_caff0d7acb444bc6bb1083c726cec710",
              "IPY_MODEL_def1b9a22aa14dfe9ed934d1b3248674",
              "IPY_MODEL_6596dc4f56f14264a1fd59d42f8a62a9"
            ],
            "layout": "IPY_MODEL_e8f234ff8caf4edc99e6b688a5cc4aad"
          }
        },
        "9cf7873e2a6b4641b4b02d0942fdca4a": {
          "model_module": "@jupyter-widgets/base",
          "model_module_version": "1.2.0",
          "model_name": "LayoutModel",
          "state": {
            "_model_module": "@jupyter-widgets/base",
            "_model_module_version": "1.2.0",
            "_model_name": "LayoutModel",
            "_view_count": null,
            "_view_module": "@jupyter-widgets/base",
            "_view_module_version": "1.2.0",
            "_view_name": "LayoutView",
            "align_content": null,
            "align_items": null,
            "align_self": null,
            "border": null,
            "bottom": null,
            "display": null,
            "flex": "2",
            "flex_flow": null,
            "grid_area": null,
            "grid_auto_columns": null,
            "grid_auto_flow": null,
            "grid_auto_rows": null,
            "grid_column": null,
            "grid_gap": null,
            "grid_row": null,
            "grid_template_areas": null,
            "grid_template_columns": null,
            "grid_template_rows": null,
            "height": null,
            "justify_content": null,
            "justify_items": null,
            "left": null,
            "margin": null,
            "max_height": null,
            "max_width": null,
            "min_height": null,
            "min_width": null,
            "object_fit": null,
            "object_position": null,
            "order": null,
            "overflow": null,
            "overflow_x": null,
            "overflow_y": null,
            "padding": null,
            "right": null,
            "top": null,
            "visibility": null,
            "width": null
          }
        },
        "a1a2997a83874334ad83aa7b72d1096a": {
          "model_module": "@jupyter-widgets/controls",
          "model_module_version": "1.5.0",
          "model_name": "FloatProgressModel",
          "state": {
            "_dom_classes": [],
            "_model_module": "@jupyter-widgets/controls",
            "_model_module_version": "1.5.0",
            "_model_name": "FloatProgressModel",
            "_view_count": null,
            "_view_module": "@jupyter-widgets/controls",
            "_view_module_version": "1.5.0",
            "_view_name": "ProgressView",
            "bar_style": "",
            "description": "",
            "description_tooltip": null,
            "layout": "IPY_MODEL_1df3aec6bfd445f3a2929540dd6c0944",
            "max": 535,
            "min": 0,
            "orientation": "horizontal",
            "style": "IPY_MODEL_5edd7b6cd2cd4a968c504a0e75ea70cb",
            "value": 535
          }
        },
        "a81264bcda4742b88519caaf0776fd43": {
          "model_module": "@jupyter-widgets/controls",
          "model_module_version": "1.5.0",
          "model_name": "DescriptionStyleModel",
          "state": {
            "_model_module": "@jupyter-widgets/controls",
            "_model_module_version": "1.5.0",
            "_model_name": "DescriptionStyleModel",
            "_view_count": null,
            "_view_module": "@jupyter-widgets/base",
            "_view_module_version": "1.2.0",
            "_view_name": "StyleView",
            "description_width": ""
          }
        },
        "aec1582cccd34a8a8830d182c9ee8bbb": {
          "model_module": "@jupyter-widgets/controls",
          "model_module_version": "1.5.0",
          "model_name": "DescriptionStyleModel",
          "state": {
            "_model_module": "@jupyter-widgets/controls",
            "_model_module_version": "1.5.0",
            "_model_name": "DescriptionStyleModel",
            "_view_count": null,
            "_view_module": "@jupyter-widgets/base",
            "_view_module_version": "1.2.0",
            "_view_name": "StyleView",
            "description_width": ""
          }
        },
        "afa48916f38e44488f20147dcb44403b": {
          "model_module": "@jupyter-widgets/base",
          "model_module_version": "1.2.0",
          "model_name": "LayoutModel",
          "state": {
            "_model_module": "@jupyter-widgets/base",
            "_model_module_version": "1.2.0",
            "_model_name": "LayoutModel",
            "_view_count": null,
            "_view_module": "@jupyter-widgets/base",
            "_view_module_version": "1.2.0",
            "_view_name": "LayoutView",
            "align_content": null,
            "align_items": null,
            "align_self": null,
            "border": null,
            "bottom": null,
            "display": "inline-flex",
            "flex": null,
            "flex_flow": "row wrap",
            "grid_area": null,
            "grid_auto_columns": null,
            "grid_auto_flow": null,
            "grid_auto_rows": null,
            "grid_column": null,
            "grid_gap": null,
            "grid_row": null,
            "grid_template_areas": null,
            "grid_template_columns": null,
            "grid_template_rows": null,
            "height": null,
            "justify_content": null,
            "justify_items": null,
            "left": null,
            "margin": null,
            "max_height": null,
            "max_width": null,
            "min_height": null,
            "min_width": null,
            "object_fit": null,
            "object_position": null,
            "order": null,
            "overflow": null,
            "overflow_x": null,
            "overflow_y": null,
            "padding": null,
            "right": null,
            "top": null,
            "visibility": null,
            "width": "100%"
          }
        },
        "bee45f87e44c42c19a130c8dcd1ed02e": {
          "model_module": "@jupyter-widgets/controls",
          "model_module_version": "1.5.0",
          "model_name": "DescriptionStyleModel",
          "state": {
            "_model_module": "@jupyter-widgets/controls",
            "_model_module_version": "1.5.0",
            "_model_name": "DescriptionStyleModel",
            "_view_count": null,
            "_view_module": "@jupyter-widgets/base",
            "_view_module_version": "1.2.0",
            "_view_name": "StyleView",
            "description_width": ""
          }
        },
        "c8b8bac5669a4c06a480f50e31e96ed0": {
          "model_module": "@jupyter-widgets/controls",
          "model_module_version": "1.5.0",
          "model_name": "HTMLModel",
          "state": {
            "_dom_classes": [],
            "_model_module": "@jupyter-widgets/controls",
            "_model_module_version": "1.5.0",
            "_model_name": "HTMLModel",
            "_view_count": null,
            "_view_module": "@jupyter-widgets/controls",
            "_view_module_version": "1.5.0",
            "_view_name": "HTMLView",
            "description": "",
            "description_tooltip": null,
            "layout": "IPY_MODEL_fae7af95692846c58bf748d5de544b84",
            "placeholder": "​",
            "style": "IPY_MODEL_09510aa60f344e91bcaba38d9b9ab4d7",
            "value": "Validation DataLoader 0: 100%"
          }
        },
        "caff0d7acb444bc6bb1083c726cec710": {
          "model_module": "@jupyter-widgets/controls",
          "model_module_version": "1.5.0",
          "model_name": "HTMLModel",
          "state": {
            "_dom_classes": [],
            "_model_module": "@jupyter-widgets/controls",
            "_model_module_version": "1.5.0",
            "_model_name": "HTMLModel",
            "_view_count": null,
            "_view_module": "@jupyter-widgets/controls",
            "_view_module_version": "1.5.0",
            "_view_name": "HTMLView",
            "description": "",
            "description_tooltip": null,
            "layout": "IPY_MODEL_e4e7543cb1b845c9b48dce4eb96be292",
            "placeholder": "​",
            "style": "IPY_MODEL_a81264bcda4742b88519caaf0776fd43",
            "value": "Epoch 1:   6%"
          }
        },
        "def1b9a22aa14dfe9ed934d1b3248674": {
          "model_module": "@jupyter-widgets/controls",
          "model_module_version": "1.5.0",
          "model_name": "FloatProgressModel",
          "state": {
            "_dom_classes": [],
            "_model_module": "@jupyter-widgets/controls",
            "_model_module_version": "1.5.0",
            "_model_name": "FloatProgressModel",
            "_view_count": null,
            "_view_module": "@jupyter-widgets/controls",
            "_view_module_version": "1.5.0",
            "_view_name": "ProgressView",
            "bar_style": "",
            "description": "",
            "description_tooltip": null,
            "layout": "IPY_MODEL_9cf7873e2a6b4641b4b02d0942fdca4a",
            "max": 7269,
            "min": 0,
            "orientation": "horizontal",
            "style": "IPY_MODEL_df72278aece747fabadb28de1c23d398",
            "value": 420
          }
        },
        "df72278aece747fabadb28de1c23d398": {
          "model_module": "@jupyter-widgets/controls",
          "model_module_version": "1.5.0",
          "model_name": "ProgressStyleModel",
          "state": {
            "_model_module": "@jupyter-widgets/controls",
            "_model_module_version": "1.5.0",
            "_model_name": "ProgressStyleModel",
            "_view_count": null,
            "_view_module": "@jupyter-widgets/base",
            "_view_module_version": "1.2.0",
            "_view_name": "StyleView",
            "bar_color": null,
            "description_width": ""
          }
        },
        "e30b48b1179e4de1a862abe0350e305a": {
          "model_module": "@jupyter-widgets/controls",
          "model_module_version": "1.5.0",
          "model_name": "HBoxModel",
          "state": {
            "_dom_classes": [],
            "_model_module": "@jupyter-widgets/controls",
            "_model_module_version": "1.5.0",
            "_model_name": "HBoxModel",
            "_view_count": null,
            "_view_module": "@jupyter-widgets/controls",
            "_view_module_version": "1.5.0",
            "_view_name": "HBoxView",
            "box_style": "",
            "children": [
              "IPY_MODEL_c8b8bac5669a4c06a480f50e31e96ed0",
              "IPY_MODEL_a1a2997a83874334ad83aa7b72d1096a",
              "IPY_MODEL_2332c7e21c724fc6bbf2f834a9279b87"
            ],
            "layout": "IPY_MODEL_afa48916f38e44488f20147dcb44403b"
          }
        },
        "e4e7543cb1b845c9b48dce4eb96be292": {
          "model_module": "@jupyter-widgets/base",
          "model_module_version": "1.2.0",
          "model_name": "LayoutModel",
          "state": {
            "_model_module": "@jupyter-widgets/base",
            "_model_module_version": "1.2.0",
            "_model_name": "LayoutModel",
            "_view_count": null,
            "_view_module": "@jupyter-widgets/base",
            "_view_module_version": "1.2.0",
            "_view_name": "LayoutView",
            "align_content": null,
            "align_items": null,
            "align_self": null,
            "border": null,
            "bottom": null,
            "display": null,
            "flex": null,
            "flex_flow": null,
            "grid_area": null,
            "grid_auto_columns": null,
            "grid_auto_flow": null,
            "grid_auto_rows": null,
            "grid_column": null,
            "grid_gap": null,
            "grid_row": null,
            "grid_template_areas": null,
            "grid_template_columns": null,
            "grid_template_rows": null,
            "height": null,
            "justify_content": null,
            "justify_items": null,
            "left": null,
            "margin": null,
            "max_height": null,
            "max_width": null,
            "min_height": null,
            "min_width": null,
            "object_fit": null,
            "object_position": null,
            "order": null,
            "overflow": null,
            "overflow_x": null,
            "overflow_y": null,
            "padding": null,
            "right": null,
            "top": null,
            "visibility": null,
            "width": null
          }
        },
        "e8f234ff8caf4edc99e6b688a5cc4aad": {
          "model_module": "@jupyter-widgets/base",
          "model_module_version": "1.2.0",
          "model_name": "LayoutModel",
          "state": {
            "_model_module": "@jupyter-widgets/base",
            "_model_module_version": "1.2.0",
            "_model_name": "LayoutModel",
            "_view_count": null,
            "_view_module": "@jupyter-widgets/base",
            "_view_module_version": "1.2.0",
            "_view_name": "LayoutView",
            "align_content": null,
            "align_items": null,
            "align_self": null,
            "border": null,
            "bottom": null,
            "display": "inline-flex",
            "flex": null,
            "flex_flow": "row wrap",
            "grid_area": null,
            "grid_auto_columns": null,
            "grid_auto_flow": null,
            "grid_auto_rows": null,
            "grid_column": null,
            "grid_gap": null,
            "grid_row": null,
            "grid_template_areas": null,
            "grid_template_columns": null,
            "grid_template_rows": null,
            "height": null,
            "justify_content": null,
            "justify_items": null,
            "left": null,
            "margin": null,
            "max_height": null,
            "max_width": null,
            "min_height": null,
            "min_width": null,
            "object_fit": null,
            "object_position": null,
            "order": null,
            "overflow": null,
            "overflow_x": null,
            "overflow_y": null,
            "padding": null,
            "right": null,
            "top": null,
            "visibility": null,
            "width": "100%"
          }
        },
        "fae7af95692846c58bf748d5de544b84": {
          "model_module": "@jupyter-widgets/base",
          "model_module_version": "1.2.0",
          "model_name": "LayoutModel",
          "state": {
            "_model_module": "@jupyter-widgets/base",
            "_model_module_version": "1.2.0",
            "_model_name": "LayoutModel",
            "_view_count": null,
            "_view_module": "@jupyter-widgets/base",
            "_view_module_version": "1.2.0",
            "_view_name": "LayoutView",
            "align_content": null,
            "align_items": null,
            "align_self": null,
            "border": null,
            "bottom": null,
            "display": null,
            "flex": null,
            "flex_flow": null,
            "grid_area": null,
            "grid_auto_columns": null,
            "grid_auto_flow": null,
            "grid_auto_rows": null,
            "grid_column": null,
            "grid_gap": null,
            "grid_row": null,
            "grid_template_areas": null,
            "grid_template_columns": null,
            "grid_template_rows": null,
            "height": null,
            "justify_content": null,
            "justify_items": null,
            "left": null,
            "margin": null,
            "max_height": null,
            "max_width": null,
            "min_height": null,
            "min_width": null,
            "object_fit": null,
            "object_position": null,
            "order": null,
            "overflow": null,
            "overflow_x": null,
            "overflow_y": null,
            "padding": null,
            "right": null,
            "top": null,
            "visibility": null,
            "width": null
          }
        },
        "febd047a37e14b05b9d705fe8fd388ab": {
          "model_module": "@jupyter-widgets/base",
          "model_module_version": "1.2.0",
          "model_name": "LayoutModel",
          "state": {
            "_model_module": "@jupyter-widgets/base",
            "_model_module_version": "1.2.0",
            "_model_name": "LayoutModel",
            "_view_count": null,
            "_view_module": "@jupyter-widgets/base",
            "_view_module_version": "1.2.0",
            "_view_name": "LayoutView",
            "align_content": null,
            "align_items": null,
            "align_self": null,
            "border": null,
            "bottom": null,
            "display": "inline-flex",
            "flex": null,
            "flex_flow": "row wrap",
            "grid_area": null,
            "grid_auto_columns": null,
            "grid_auto_flow": null,
            "grid_auto_rows": null,
            "grid_column": null,
            "grid_gap": null,
            "grid_row": null,
            "grid_template_areas": null,
            "grid_template_columns": null,
            "grid_template_rows": null,
            "height": null,
            "justify_content": null,
            "justify_items": null,
            "left": null,
            "margin": null,
            "max_height": null,
            "max_width": null,
            "min_height": null,
            "min_width": null,
            "object_fit": null,
            "object_position": null,
            "order": null,
            "overflow": null,
            "overflow_x": null,
            "overflow_y": null,
            "padding": null,
            "right": null,
            "top": null,
            "visibility": null,
            "width": "100%"
          }
        }
      }
    }
  },
  "nbformat": 4,
  "nbformat_minor": 0
}